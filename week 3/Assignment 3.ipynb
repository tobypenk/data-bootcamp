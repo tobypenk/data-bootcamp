{
 "cells": [
  {
   "cell_type": "markdown",
   "id": "b3266c30",
   "metadata": {},
   "source": [
    "# Assignment 3\n",
    "\n",
    "Due 2023-02-23 at 1:30pm ET\n",
    "\n",
    "You _must_ comment your code explaining how each piece works. You don't need to comment every single line, but I want to see your thinking."
   ]
  },
  {
   "cell_type": "markdown",
   "id": "d33b3bd4",
   "metadata": {},
   "source": [
    "1. Create a `Flower` class. It should have the following properties:\n",
    "    - Attributes set by parameters:\n",
    "        - Height, inches (float)\n",
    "        - Color (str)\n",
    "        - Number of petals (int)\n",
    "        - Daily water intake, ounces (float)\n",
    "        - Total water supply, ounces (float)\n",
    "    - Attributes set by default in the `__init__` function:\n",
    "        - Alive (bool) - set to True on initialization\n",
    "    - Methods:\n",
    "        - Survived flood: takes one parameter, a float indicating the flood height. Sets `alive` to False if flood height >= flower height.\n",
    "        - Loves me not: returns \"loves me\" if the number of petals is odd; \"loves me not\" otherwise.\n",
    "        - Pick: decrements the number of petals by 1.\n",
    "        - Water supply ok: returns True if total water supply is greater than 2x the daily water intake; False otherwise.\n",
    "        - Water: takes one parameter, a float for the amount of water. Adds that amount to the total water supply.\n",
    "        - Drink: decrements the water supply by the amount of daily water intake and then calls the \"water supply ok\" function. If the plant needs water, calls the Water method passing a parameter large enough to give the plant 20 total days of water.\n",
    "        \n",
    "2. Use the string `string_for_question_2` in the cell below. Use `map`, `filter`, and `reduce` to answer the following questions:\n",
    "    - How many letters in the string are upper-case?\n",
    "    - If every vowel were replaced by a number representing that letter's place in the alphabet (e.g., c = 3 - not case-sensitive), how long would the entire string be?\n",
    "    - If every letter were replaced by a number representing that letter's place in the alphabet, what would the sum of all those numbers be? \n",
    "    \n",
    "3. Create a list of all the numbers between 0 and 100,000, inclusive.\n",
    "    - Use a list comprehension to turn them all into strings (e.g., 1 becomes \"1\"). How many characters long is the entire list?\n",
    "    - Use a list comprehension and a prime checker to filter the list down to numbers that are prime. (You might need to google around to find a package or a function that does prime checking). Now how many characters long is the entire list?\n",
    "\n",
    "4. Read <a href=\"https://raw.githubusercontent.com/tobypenk/data-bootcamp/main/week%202/20230208%20IDG%20data.csv\">this dataset</a> into a pandas dataframe. It is a dataset of _drug targets_, molecules in the human body that can be the targets of pharmaceutical products.\n",
    "    - Which disease (given by the \"Linked Disease\" column) has the largest number of associated drug targets? (This is the same as asking which one has the largest number of rows)\n",
    "    - Which \"Target Development Level\" has the largest number of associated targets?\n",
    "    - How many distinct Target Development Levels are there?\n",
    "        - Which diseases have the most associated targets for each of the distinct development levels?\n",
    "    - Write the grouped dataframe by target development level and linked disease to a .csv file    \n",
    "    \n",
    "_Challenge_: Solve <a href=\"https://projecteuler.net/problem=9\">Project Euler problem 9.</a>\n",
    "    \n",
    "   "
   ]
  },
  {
   "cell_type": "code",
   "execution_count": 14,
   "id": "9c2393d9",
   "metadata": {},
   "outputs": [],
   "source": [
    "string_for_question_2 = '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'\n"
   ]
  },
  {
   "cell_type": "code",
   "execution_count": null,
   "id": "dff22c76",
   "metadata": {},
   "outputs": [],
   "source": []
  }
 ],
 "metadata": {
  "kernelspec": {
   "display_name": "Python 3 (ipykernel)",
   "language": "python",
   "name": "python3"
  },
  "language_info": {
   "codemirror_mode": {
    "name": "ipython",
    "version": 3
   },
   "file_extension": ".py",
   "mimetype": "text/x-python",
   "name": "python",
   "nbconvert_exporter": "python",
   "pygments_lexer": "ipython3",
   "version": "3.8.9"
  }
 },
 "nbformat": 4,
 "nbformat_minor": 5
}
