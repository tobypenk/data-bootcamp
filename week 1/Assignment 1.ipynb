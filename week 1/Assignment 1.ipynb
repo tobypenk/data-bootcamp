{
 "cells": [
  {
   "cell_type": "markdown",
   "id": "4cde1d20",
   "metadata": {},
   "source": [
    "# Assignment 1\n",
    "\n",
    "### Due 2023-02-09, before class at 1:30pm ET"
   ]
  },
  {
   "cell_type": "markdown",
   "id": "a83119b4",
   "metadata": {},
   "source": [
    "Time to practice! A lot of the stuff you have to do is stuff we didn't explicitly cover together, but you should be able to find all the answers on Google or ChatGPT. I'm also available if you're stumped.\n",
    "\n",
    "- Complete the following code assignments, each in its own cell of a Google Colab notebook:\n",
    "    - Create three variables: `num1`, `num2`, and `operator`. Write code that executes the given `operator` for the two numbers, when given any number as `num1` and `num2`, and any of the following operators:\n",
    "        - \"add\"\n",
    "        - \"subtract\"\n",
    "        - \"multiply\"\n",
    "        - \"divide\"\n",
    "        - \"power\"\n",
    "        - \"modulo\"\n",
    "    - Create a discount calculator: declare a variable for the price of an item; then, calculate the discount like this: If the price is more than 50, discount by 10%; otherwise, don't give a discount. Print the price at the end.\n",
    "    - Create a currency converter: declare a variable for the first currency amount, and a second variable that is a string giving the new currency symbol. Print the amount of the new currency given these inputs. Write code that can handle at least 4 different currencies. (You'll need to use Google for this, at the very least to find the conversion rates)\n",
    "    - Devise a loan eligibility calculator: declare variables for relevant inputs to a loan eligibility decision. Then, implement code that considers these variables and generates a decision. Comment the code to justify your choice of inputs and logic.\n",
    "    - *Challenge:* make an account on <a href=\"https://projecteuler.net/sign_in\">Project Euler</a> and solve the first problem in the archives. Send me your code.\n",
    "- Submit the notebooks you used to solve these problems, either by emailing them to me at tp1488@stern.nyu.edu, or by making me a shared collaborator on your Google Colab notebook.\n",
    "    \n",
    "- Install Python and Jupyter on your machine; run your first notebook on your browser and provide a screenshot\n",
    "- Make a GitHub account and provide your username\n",
    "\n"
   ]
  },
  {
   "cell_type": "code",
   "execution_count": null,
   "id": "fafd0255",
   "metadata": {},
   "outputs": [],
   "source": []
  }
 ],
 "metadata": {
  "kernelspec": {
   "display_name": "Python 3 (ipykernel)",
   "language": "python",
   "name": "python3"
  },
  "language_info": {
   "codemirror_mode": {
    "name": "ipython",
    "version": 3
   },
   "file_extension": ".py",
   "mimetype": "text/x-python",
   "name": "python",
   "nbconvert_exporter": "python",
   "pygments_lexer": "ipython3",
   "version": "3.8.9"
  }
 },
 "nbformat": 4,
 "nbformat_minor": 5
}
