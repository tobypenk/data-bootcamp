{
 "cells": [
  {
   "cell_type": "markdown",
   "id": "4cde1d20",
   "metadata": {},
   "source": [
    "# Assignment 1\n",
    "\n",
    "### Due 2023-02-09, before class at 1:30pm ET"
   ]
  },
  {
   "cell_type": "markdown",
   "id": "a83119b4",
   "metadata": {},
   "source": [
    "Time to practice! A lot of the stuff you have to do is stuff we didn't explicitly cover together, but you should be able to find all the answers on Google or ChatGPT. I'm also available if you're stumped.\n",
    "\n",
    "- Complete the following code assignments, each in its own cell of a Google Colab notebook. Ensure you handle \"edge\" cases like someone passing a string where a number should be, or testing a negative number for primeness:\n",
    "    - Write a function that takes three parameters: `num1`, `num2`, and `operator`. Write code that executes the given `operator` for the two numbers and returns the result, when given any number as `num1` and `num2`, and any of the following operators as `operator`:\n",
    "        - \"add\"\n",
    "        - \"subtract\"\n",
    "        - \"multiply\"\n",
    "        - \"divide\"\n",
    "        - \"power\"\n",
    "        - \"modulo\"\n",
    "    - Create a discount calculator: create a function that takes the price of an item as a parameter; then, calculate the discount like this: If the price is more than 50, discount by 10%; otherwise, don't give a discount. Return the price at the end.\n",
    "    - Create a currency converter: given a USD amount and the three-letter symbol for the target currency, return the amount of the new currency. Write code that can handle at least 4 different currencies. (You'll need to use Google for this, at the very least to find the conversion rates)\n",
    "    - Devise a loan eligibility calculator: write a function that takes relevant inputs to a loan eligibility decision. Then, implement code that considers these variables and returns a yes/no decision. Comment the code to justify your choice of inputs and logic.\n",
    "    - *Challenge:* make an account on <a href=\"https://projecteuler.net/sign_in\">Project Euler</a> and solve the first problem in the archives.\n",
    "- Submit the notebooks you used to solve these problems, either by emailing them to me at tp1488@stern.nyu.edu, or by making me a shared collaborator on your Google Colab notebook.\n",
    "- Install Python and Jupyter on your machine; run your first notebook on your browser and provide a screenshot. As a starting point, here are <a href=\"https://www.geeksforgeeks.org/how-to-install-jupyter-notebook-on-macos/\">Mac instructions</a> and <a href=\"https://www.geeksforgeeks.org/how-to-install-jupyter-notebook-in-windows/\">Windows instructions.</a>\n",
    "- Make a GitHub account and provide your username"
   ]
  },
  {
   "cell_type": "code",
   "execution_count": null,
   "id": "fafd0255",
   "metadata": {},
   "outputs": [],
   "source": []
  }
 ],
 "metadata": {
  "kernelspec": {
   "display_name": "Python 3 (ipykernel)",
   "language": "python",
   "name": "python3"
  },
  "language_info": {
   "codemirror_mode": {
    "name": "ipython",
    "version": 3
   },
   "file_extension": ".py",
   "mimetype": "text/x-python",
   "name": "python",
   "nbconvert_exporter": "python",
   "pygments_lexer": "ipython3",
   "version": "3.8.9"
  }
 },
 "nbformat": 4,
 "nbformat_minor": 5
}
