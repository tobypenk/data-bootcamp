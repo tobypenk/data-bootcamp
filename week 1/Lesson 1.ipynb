{
 "cells": [
  {
   "cell_type": "markdown",
   "id": "9900c70d",
   "metadata": {},
   "source": [
    "# Python fundamentals\n",
    "\n",
    "This notebook introduces the core capabilities of the Python language and gives you a chance to practice applying them.\n",
    "\n",
    "This and the next lesson are the most coding-heavy lessons; the focus of the remainder of the course will be on real data analysis as opposed to coding concepts (though we will revisit coding concepts as necessary)"
   ]
  },
  {
   "cell_type": "markdown",
   "id": "36cfea8b",
   "metadata": {},
   "source": [
    "## Calculations\n",
    "\n",
    "Python is good at math. You can use these symbols, or \"operators,\" to perform arithmetic calculations just as you would in Excel:\n",
    "- \\+ for addition\n",
    "- \\- for subtraction\n",
    "- \\/ for division\n",
    "- \\* for multiplication\n",
    "\n",
    "Apply this below to answer these questions:\n",
    "- What is 83810205 divided by 6789?\n",
    "- If one cat has 78 whiskers, and one shelter has 112 cats, and there are 4,019 shelters in the US, how many whiskers are on cats in shelters in the entire US?"
   ]
  },
  {
   "cell_type": "code",
   "execution_count": 3,
   "id": "ce012d45",
   "metadata": {},
   "outputs": [],
   "source": [
    "## write your code here"
   ]
  },
  {
   "cell_type": "markdown",
   "id": "d302e3ef",
   "metadata": {},
   "source": [
    "Exponentiation - raising a number to a power - uses the ** symbol. In Excel, this would be done with the POWER() function, or with the ^ symbol, but the ^ symbol in Python is reserved for an operator called XOR, which we won't use in this class.\n",
    "\n",
    "- To what power does 2.7 have to be raised to produce a number greater than one million?"
   ]
  },
  {
   "cell_type": "code",
   "execution_count": 4,
   "id": "cdfd4d0a",
   "metadata": {},
   "outputs": [],
   "source": [
    "## write your code here"
   ]
  },
  {
   "cell_type": "markdown",
   "id": "6ac9c104",
   "metadata": {},
   "source": [
    "There is one more important arithmetic operator, represented by the % sign. This operator is referred to as \"modulo,\" and it returns the remainder after dividing the number on its left by the number on its right. For example, 5 % 2 returns 1, the remainder after dividing 5 by 2.\n",
    "\n",
    "Modulo will come up again and again in your coding journey as it is necessary for many algorithms to calculate remainders.\n",
    "\n",
    "- What is the remainder after dividing 10203040506070809 by 987654321?\n",
    "- One canonical use case for the modulo operator is the divisibility test, determining whether one number is evenly divisible by another. How could you use modulo to test this?"
   ]
  },
  {
   "cell_type": "code",
   "execution_count": 2,
   "id": "46ec02ef",
   "metadata": {},
   "outputs": [],
   "source": [
    "## write your code here"
   ]
  },
  {
   "cell_type": "markdown",
   "id": "09d5c43c",
   "metadata": {},
   "source": [
    "## Variables\n",
    "\n",
    "It's useful to store data for later use, and to reference it by a descriptive name instead of explicitly writing out \"2.7\" (or whatever) every time you need to do math. To do this you use the \"=\" symbol, known as the assignment operator.\n",
    "\n",
    "The assignment works by assigning what's on the left to what's on the right:\n",
    "- [your variable name] = [your data]\n",
    "\n",
    "\n",
    "You can use this to store multiple model inputs:\n",
    "- whiskers_per_cat = 78\n",
    "- cats_per_shelter = 112\n",
    "- shelters_in_us = 4019\n",
    "\n",
    "You can also do math to variables just like with the numbers themselves:\n",
    "- whiskers_grand_total = whiskers_per_cat * cats_per_shelter * shelters_in_us\n",
    "\n",
    "Try it below. Note that once you assign the \"whiskers_grand_total\" variable, you'll have to \n",
    "call \"print\" if you want to see anything. At the end of your code, type \"print(whiskers_grand_total).\""
   ]
  },
  {
   "cell_type": "markdown",
   "id": "8d4eb8f5",
   "metadata": {},
   "source": [
    "<div class=\"alert alert-block alert-danger\">\n",
    "You can name variables <em>almost</em> anything you want, \n",
    "but there are some \"reserved words\" in the Python language that can never be used as variable names. They include \"True,\" \"False,\" \"None,\" \"if,\" \"and,\" and others.\n",
    "    You can browse the full list <a href=\"https://realpython.com/lessons/reserved-keywords/\">here.</a> Variable names also cannot begin with anything other than a letter, and cannot contain spaces.\n",
    "</div>\n",
    "\n",
    "\n"
   ]
  },
  {
   "cell_type": "code",
   "execution_count": 21,
   "id": "61a9cd21",
   "metadata": {},
   "outputs": [],
   "source": [
    "## write your code here"
   ]
  },
  {
   "cell_type": "markdown",
   "id": "49d42db8",
   "metadata": {},
   "source": [
    "Variable assignment intuitively reads left to right, but in fact variables are assigned _right to left_ - this means something like this is legal:\n",
    "- x = 5\n",
    "- x = x * 6\n",
    "\n",
    "The variable x comes out the other side with a value of 30, and this is perfectly legal because Python reads the right side of the second line first."
   ]
  },
  {
   "cell_type": "markdown",
   "id": "40d0f8af",
   "metadata": {},
   "source": [
    "## Data types\n",
    "\n",
    "Although everything we've done so far has involved numbers, you've actually already encountered _two_ data types in your python journey: integers and floats.\n",
    "\n",
    "Integers, or ints, are whole numbers with no decimals, positive or negative, including zero. Floats, or \"floating point numbers,\" are numbers with decimals. Fractions are always represented as floats in Python.\n",
    "\n",
    "The reason Python explicitly separates ints and floats is because they are represented differently in your computer's memory, a distinction that is unimportant for most practical coding. Python will automatically interconvert between ints and floats so you won't often have to think about the difference. Some hardcore coders consider this a drawback because it excuses developers from the need to think hard about the type of all their data, but it does make life a lot easier.\n",
    "\n",
    "If needed, you can manually interconvert using the int() and float() functions.\n",
    "\n",
    "What is produced by the following expressions?\n",
    "- 2 * 2\n",
    "- 2.0 * 2.0\n",
    "- 2 * 2.0\n",
    "- int(2.999999)\n",
    "- float(5)"
   ]
  },
  {
   "cell_type": "code",
   "execution_count": null,
   "id": "745eaab0",
   "metadata": {},
   "outputs": [],
   "source": [
    "## write your code here"
   ]
  },
  {
   "cell_type": "markdown",
   "id": "7f3520fc",
   "metadata": {},
   "source": [
    "In addition to ints and floats, you'll often need to use text in data analysis - for example, a housing dataset might have numeric columns representing sale price and years on market, and also text columns representing neighborhood name, address, current owner name, etc.\n",
    "\n",
    "There are three different types of characters that can be used to create strings. These are called \"string delimiters\":\n",
    "- Single quotes, e.g., 'abc'\n",
    "- Double quotes, e.g., \"abc\"\n",
    "- Triple double quotes, e.g., \"\"\"abc\"\"\"\n",
    "    - This last method is the only legal way to create a string that crosses over multiple lines.\n",
    "\n",
    "Strings are allowed to use the \"+\" operator, which concatenates (combines) two strings together. Strings can't use any of the other arithmetic operators.\n",
    "\n",
    "Try it yourself - assign the following strings to three different variables:\n",
    "- I go to business school\n",
    "- I'm a coder\n",
    "- I use a language called \"Python\"\n",
    "\n",
    "Print each one on its own."
   ]
  },
  {
   "cell_type": "code",
   "execution_count": 1,
   "id": "6647fcec",
   "metadata": {},
   "outputs": [],
   "source": [
    "## write your code here"
   ]
  },
  {
   "cell_type": "markdown",
   "id": "ad36d2a3",
   "metadata": {},
   "source": [
    "In writing code, you will often need to check whether something is true or false:\n",
    "- Does one number equal another?\n",
    "- Is a string contained in another string?\n",
    "- Does a variable exist?\n",
    "\n",
    "To test these types of questions, Python has a built-in data type called `boolean`. Booleans can only be True or False. True and False are Python keywords (note the capitalized first letters); you'll notice them turn green when you type them into Jupyter notebooks.\n",
    "\n",
    "Booleans can be directly created (e.g., `x = True`), but they also result from applying tests to data in Python. Say we have two variables: `x = 5; y = 6` - how do we test whether they are equal? This is done with two equals signs - the equality operator.\n",
    "\n",
    "`x == y #returns False`\n",
    "`x == y - 1 #returns True`\n",
    "`False == False #returns True`\n",
    "`2 > 1 #returns True`\n",
    "`2 > 2 #returns False`\n",
    "\n",
    "Try it yourself:\n",
    "- Is the remainder when dividing 838114395 by 67890 greater than 12000?\n",
    "- Does 8 equal \"8\"?\n",
    "- Does 8.0 equal 8?\n",
    "- Does [] equal []?\n",
    "- Does [0,1] equal [1,0]? Why?"
   ]
  },
  {
   "cell_type": "code",
   "execution_count": 43,
   "id": "f242e4e0",
   "metadata": {},
   "outputs": [
    {
     "data": {
      "text/plain": [
       "True"
      ]
     },
     "execution_count": 43,
     "metadata": {},
     "output_type": "execute_result"
    }
   ],
   "source": [
    "## write your code here"
   ]
  },
  {
   "cell_type": "markdown",
   "id": "7e78f171",
   "metadata": {},
   "source": [
    "## Getting help\n",
    "\n",
    "Now print the three strings together on one line using the \"+\" operator. Is anything different? What's going on?\n",
    "\n",
    "There are three ways to get help on a coding issue:\n",
    "- Ask someone with more experience (that's what I'm here for)\n",
    "- Ask Google. There are two types of results that are the most useful:\n",
    "    - StackOverflow threads. StackOverflow (SO) is an engineering Q&A site that contains answers to almost every question you could ever ask. The community can be kind of spicy if you don't ask questions just the right way, so beware.\n",
    "    - Official documentation made by the person who created whatever tool is giving you trouble\n",
    "    - Almost everything else (W3School, GitHub threads, Mozilla Developer Network, etc) is second-best (in my opinion)\n",
    "- ChatGPT. I suggest asking Chat GPT our question about the single quote and seeing what you get back.\n",
    "    - ChatGPT can also write code for you. This is useful as a first draft and I encourage you to use it for that. However, for anything you turn in, the code needs to be 100% yours, even if you use ChatGPT as a jumping-off point.\n",
    "    - Within two weeks of ChatGPT's release, detectors were built and publicly deployed to detect whether text was written by ChatGPT. These tools are in wide use, so plagiarize at your own risk.\n",
    "    \n",
    "We're going to introduce a lot of coding concepts here in class, and I of course am always available for help. However, the assignments for class intentionally rely on concepts we will not have covered - if and when this happens, know that getting help in unfamiliar challenges is part of every coder's life (including mine)."
   ]
  },
  {
   "cell_type": "markdown",
   "id": "862925b9",
   "metadata": {},
   "source": [
    "## Type coercion\n",
    "\n",
    "Now you know about three data types: ints, floats, and strings. These can be freely interconverted using the int(), float(), and str() methods. However, note that converting a float to an int executes a \"floor\" or \"round down\" operation, so int(2.9) will return 2.\n",
    "\n",
    "Try it below:\n",
    "- Assign a variable to contain the result of dividing 12345 by 54321.\n",
    "    - What data type will this variable contain?\n",
    "- Now assign a new variable the value \"The answer is: \"\n",
    "- Use the \"+\" operator to combine the result of the division with the string you created.\n",
    "    - What method do you have to use to make this legal?"
   ]
  },
  {
   "cell_type": "markdown",
   "id": "c5569231",
   "metadata": {},
   "source": [
    "<div class=\"alert alert-block alert-info\">\n",
    "As with dynamic typing, some hardcore coders consider type coercion a crutch for weak developers. In older languages like C, all variables must be explicitly assigned a data type when they are created, and this type cannot be changed. There are good things about this (it is one reason C is faster than Python), but dynamic typing does make Python development easier.\n",
    "</div>"
   ]
  },
  {
   "cell_type": "markdown",
   "id": "ec701a50",
   "metadata": {},
   "source": [
    "## Comments\n",
    "\n",
    "Comments are among the most critical, controversial, inconsistent, and abused concepts in the world of coding. The idea is simple: comments are lines of code that are not executed by Python, and only exist to be read by other coders (or by you, six months later, when you have forgotten what you were thinking when you wrote your code).\n",
    "\n",
    "Comments should clarify your thinking and help people understand why you made the choices you made. All code can be written multiple ways, so clarifying the tradeoffs you decided to make is critical. Comments can be made in two ways:\n",
    "- Using the # symbol - anything after this symbol will not be read by Python\n",
    "- Using triple-double quotes\n",
    "\n",
    "You'll be graded in every assignment and presentation on the presence and quality of your code comments. Build a habit right now, today, of commenting your code liberally."
   ]
  },
  {
   "cell_type": "code",
   "execution_count": null,
   "id": "4e5b8c9b",
   "metadata": {},
   "outputs": [],
   "source": [
    "# this is a comment\n",
    "x = 5 # you can initiate a comment even on a line that also contains code\n",
    "\n",
    "\"\"\"\n",
    "this is also a comment.\n",
    "\n",
    "it's often useful to comment across multiple lines, and the triple-double quote\n",
    "makes that easier.\n",
    "\"\"\""
   ]
  },
  {
   "cell_type": "markdown",
   "id": "18f846d3",
   "metadata": {},
   "source": [
    "<div class=\"alert alert-block alert-info\">\n",
    "There is an informal rule in the developer world that lines of code should never exceed 80 characters. In Jupyter, you'll know your lines are too long if a scroll bar to scroll left and right appears at the bottom of your code cell. If this happens, find ways to divide your longest lines into multiple lines.\n",
    "</div>"
   ]
  },
  {
   "cell_type": "markdown",
   "id": "6eef5b78",
   "metadata": {},
   "source": [
    "## Control structures\n",
    "\n",
    "What's a control structure?\n",
    "\n",
    "Python executes code from top to bottom, and you can imagine a cursor scanning your code line by line as it is executed - in fact, in the Google Colab development environment, this cursor is displayed so you can see just what the code is thinking about in any one moment.\n",
    "\n",
    "In all the code you've written so far, the cursor has headed straight from top to bottom, hitting every single line along the way exactly once. But what if you need to do something like the following?\n",
    "\n",
    "- Set a variable to a user's name\n",
    "- If their name is the same as yours, say \"wow! we have the same name!\"\n",
    "- If their name is different from yours, say \"cool, whatever, nice to meet you i guess\"\n",
    "\n",
    "You could lurk around the computer as users enter their name, and quickly change the output phrase to the \"wow\" statement if you notice the user entered the same name as yours, but the whole point of computers is they're supposed to do that stuff for us.\n",
    "\n",
    "There is a way to do this in Python using an `if` statement:\n",
    "```\n",
    "if [some condition in the form of a boolean]:\n",
    "    [code that is executed if the above condition is True]\n",
    "elif [some other boolean condition]:\n",
    "    [more code that's executed if the above is true]\n",
    "else:\n",
    "    [the final or default code]\n",
    "```\n",
    "\n",
    "In an `if` statement, exactly one `if` is mandatory, but you can have as many `elif`s as you want, and `else` is entirely optional. You'll see what this means shortly.\n",
    "\n",
    "Try it yourself:\n",
    "- Declare a variable, x = 100\n",
    "- Write a statement that prints \"x is huge!\" if x is greater than 50, and \"x is tiny!\" if x is less than or equal to 50\n",
    "- Run your code\n",
    "- Change x so it prints out the other statement\n",
    "- Add a condition so it prints out \"x is meh\" if x is between 50 and 100"
   ]
  },
  {
   "cell_type": "code",
   "execution_count": null,
   "id": "8c822b14",
   "metadata": {},
   "outputs": [],
   "source": [
    "## write your code here"
   ]
  },
  {
   "cell_type": "markdown",
   "id": "561744a3",
   "metadata": {},
   "source": [
    "### Whitespace\n",
    "\n",
    "In Python, indentation is very important.\n",
    "\n",
    "You might have noticed that in the if statement, `if`, `elif`, and `else` are not indented at all, while all the lines of code under them are indented by one tab. This is so Python will know which pieces of code are part of the `if` statement, and which lines are outside it. Other languages handle this by wrapping the conditional code in curly braces, but Python's developers felt using indentation to denote control flow was more readable.\n",
    "\n"
   ]
  },
  {
   "cell_type": "markdown",
   "id": "73d32115",
   "metadata": {},
   "source": [
    "If statements are among the most useful and universal units of code in the world, and you will encounter them again and again. If statements can even be nested inside if statements. Take the 2x2 we discussed at the beginning of the course, of high/low variance and high/low weight:\n",
    "\n",
    "- High variance / high weight: true differentiators\n",
    "- High variance / low weight: quirks\n",
    "- Low variance / high weight: table stakes\n",
    "- Low variance / low weight: wastes of time\n",
    "\n",
    "How would you implement code to do something unique in each of the four quadrants, using only the two variables of variance and weight?\n",
    "\n",
    "```\n",
    "variance = \"high\"\n",
    "weight = \"high\"\n",
    "\n",
    "if variance == \"high\":\n",
    "    if weight == \"high\":\n",
    "        #high weight and variance\n",
    "        print(\"true differentiator\")\n",
    "    else:\n",
    "        #low weight, high variance\n",
    "        print(\"quirk\")\n",
    "else:\n",
    "    if weight == \"high\":\n",
    "        #high weight, low variance\n",
    "        print(\"table stakes\")\n",
    "    else:\n",
    "        #low weight and variance\n",
    "        print(\"waste of time\")\n",
    "```\n",
    "\n",
    "Some people (not me) consider nested if statements to be a transgression to be avoided. If you had to, how could you implement exactly equivalent functional code with no nested if statements?"
   ]
  },
  {
   "cell_type": "code",
   "execution_count": null,
   "id": "d16352f6",
   "metadata": {},
   "outputs": [],
   "source": [
    "## write your code here"
   ]
  },
  {
   "cell_type": "markdown",
   "id": "f3476eae",
   "metadata": {},
   "source": [
    "## Loops\n",
    "\n",
    "One borderline-mystical thing about computers is how _fast_ they are. You can perform operations on millions, billions of lines of data in unfathomably short times.\n",
    "\n",
    "Often you will want to apply the same analysis to a large set of data, going one entry at a time and doing something - maybe adding two numbers, printing some text, taking an average, etc. How, for example, would you print all the numbers between 1 and 5? You could do it this way:\n",
    "\n",
    "```\n",
    "print(1)\n",
    "print(2)\n",
    "print(3)\n",
    "print(4)\n",
    "print(5)\n",
    "```\n",
    "\n",
    "This is obviously an annoying way to do it, and not a great solution because what if the next email you get from your boss says, \"oops, sorry, I meant to say print all the numbers between 1 and _5 million_?\"\n",
    "\n",
    "Python has your back in the form of _loops_. There are two kinds of loops: ones that handle some finite set of data you define, and ones that keep going until they have to stop (meaning possibly forever).\n",
    "\n",
    "The first kind, the _for_ loop, is the solution to our above conundrum:\n",
    "\n",
    "```\n",
    "for i in range(1,6):\n",
    "    print(i)\n",
    "```\n",
    "\n",
    "Note the use of whitespace just like with the `if` statement. A few things about `for` loops:\n",
    "- You can name the variable, or \"iterator,\" whatever you want, as long as it's not a Python reserved keyword _and_ is not a variable name you've used anywhere else.\n",
    "    - `i` is a very common choice of iterator name, to the point that it's almost a rule to use it unless there is a good reason to use some other name\n",
    "- Don't worry too much about the `range` function; for now, just remember it creates a list of numbers starting at 1 and ending 1 below the second number (so in this case 1 to 5)\n",
    "\n",
    "Try it yourself:\n",
    "- Print the square of all the numbers from 1 to 20\n",
    "- Print the square _root_ of all the numbers from 1 to 200 (you're probably going to have to use Google for this)\n"
   ]
  },
  {
   "cell_type": "code",
   "execution_count": 73,
   "id": "e55236f2",
   "metadata": {},
   "outputs": [],
   "source": [
    "## write your code here"
   ]
  },
  {
   "cell_type": "markdown",
   "id": "3f8d54c1",
   "metadata": {},
   "source": [
    "### Nesting\n",
    "\n",
    "Just like `if` statements can go inside other `if` statements, `for` loops can go inside other `for` loops.\n",
    "\n",
    "    for i in range(1,6):\n",
    "        for j in range(7,14):\n",
    "            print(i * j)\n",
    "            \n",
    "This code counts from 1 to 6, assigning each value to i. But it also counts from 7 to 13, assigning each value to j - for _every value of i_. How many calculations will this loop perform?\n",
    "\n",
    "Loops can be nested as many times as you want, but there is a general rule of thumb that if you nest more than three loops, you are doing something very inefficient and borderline sacrilegious.\n",
    "\n",
    "    for i in range(1,11):\n",
    "        for j in range(10,21):\n",
    "            for k in range(20,41):\n",
    "                print(i*j*k)\n",
    "                \n",
    "How many calculations does this loop perform?\n",
    "\n",
    "Try it yourself\n",
    "- For all the numbers between 100 and 200, inclusive, print the product of multiplying the number by all the numbers between 12 and 19, inclusive.\n",
    "- Print the product of multiplying the number by all the _even numbers only_ between 10 and 20, inclusive. You'll need to google the `range()` function for this."
   ]
  },
  {
   "cell_type": "code",
   "execution_count": 75,
   "id": "9e2c35e7",
   "metadata": {},
   "outputs": [],
   "source": [
    "## write your code here"
   ]
  },
  {
   "cell_type": "markdown",
   "id": "3726dd2e",
   "metadata": {},
   "source": [
    "## While loops\n",
    "\n",
    "For loops are useful when you know exactly what set of numbers you're looping over. But sometimes you need to run a loop _until_ some condition is satisfied, and you don't know in advance exactly when that will be.\n",
    "\n",
    "This is where `while` comes in. A while loop will execute over and over, forever, until the condition specified in its declaration evaluates to `False`. This makes them powerful but also dangerous - you always need to be sure your `while` loop will _eventually_ evaluate to `False` and stop; otherwise it will keep going, your computer will get hot, and eventually you will have to restart.\n",
    "\n",
    "`while` works much like `for`:\n",
    "    \n",
    "    x = 0\n",
    "    while x < 10:\n",
    "        print(x)\n",
    "        x = x + 1\n",
    "        \n",
    "What is this code going to do?\n",
    "\n",
    "Try it yourself:\n",
    "- Set a variable to zero. While the variable's square is less than ten million, print the variable. Increment it by 100 on each iteration of the loop.\n"
   ]
  },
  {
   "cell_type": "code",
   "execution_count": 80,
   "id": "ed2401f6",
   "metadata": {},
   "outputs": [],
   "source": [
    "## write your code here"
   ]
  },
  {
   "cell_type": "markdown",
   "id": "58b20267",
   "metadata": {},
   "source": [
    "## An inflection point\n",
    "\n",
    "You've learned a ton of new concepts, and every single one - even the basic idea of integers as a Python data type - has conceptual depth we couldn't hope to cover in this class. However, all coders are on a lifelong journey of going deeper with these concepts, and you have now fully begun yours. You're officially a coder!"
   ]
  },
  {
   "cell_type": "code",
   "execution_count": null,
   "id": "7b17eedd",
   "metadata": {},
   "outputs": [],
   "source": []
  }
 ],
 "metadata": {
  "kernelspec": {
   "display_name": "Python 3 (ipykernel)",
   "language": "python",
   "name": "python3"
  },
  "language_info": {
   "codemirror_mode": {
    "name": "ipython",
    "version": 3
   },
   "file_extension": ".py",
   "mimetype": "text/x-python",
   "name": "python",
   "nbconvert_exporter": "python",
   "pygments_lexer": "ipython3",
   "version": "3.8.9"
  }
 },
 "nbformat": 4,
 "nbformat_minor": 5
}
