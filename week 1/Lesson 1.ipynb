{
 "cells": [
  {
   "cell_type": "markdown",
   "id": "9900c70d",
   "metadata": {},
   "source": [
    "# Python fundamentals\n",
    "\n",
    "This notebook introduces the core capabilities of the Python language and gives you a chance to practice applying them.\n",
    "\n",
    "This and the next lesson are the most coding-heavy lessons; the focus of the remainder of the course will be on real data analysis as opposed to coding concepts (though we will revisit coding concepts as necessary)"
   ]
  },
  {
   "cell_type": "markdown",
   "id": "36cfea8b",
   "metadata": {},
   "source": [
    "## Calculations\n",
    "\n",
    "Python is good at math. You can use these symbols, or \"operators,\" to perform arithmetic calculations just as you would in Excel:\n",
    "- \\+ for addition\n",
    "- \\- for subtraction\n",
    "- \\/ for division\n",
    "- \\* for multiplication\n",
    "\n",
    "Apply this below to answer these questions:\n",
    "- What is 83810205 divided by 6789?\n",
    "- If one cat has 78 whiskers, and one shelter has 112 cats, and there are 4,019 shelters in the US, how many whiskers are on cats in shelters in the entire US?"
   ]
  },
  {
   "cell_type": "code",
   "execution_count": 6,
   "id": "ce012d45",
   "metadata": {},
   "outputs": [],
   "source": [
    "## write your code here"
   ]
  },
  {
   "cell_type": "markdown",
   "id": "d302e3ef",
   "metadata": {},
   "source": [
    "Exponentiation - raising a number to a power - uses the ** symbol. In Excel, this would be done with the POWER() function, or with the ^ symbol, but the ^ symbol in Python is reserved for an operator called XOR, which we won't use in this class.\n",
    "\n",
    "- To what power does 2.7 have to be raised to produce a number greater than one million?"
   ]
  },
  {
   "cell_type": "code",
   "execution_count": null,
   "id": "cdfd4d0a",
   "metadata": {},
   "outputs": [],
   "source": [
    "## write your code here"
   ]
  },
  {
   "cell_type": "markdown",
   "id": "6ac9c104",
   "metadata": {},
   "source": [
    "There is one more important arithmetic operator, represented by the % sign. This operator is referred to as \"modulo,\" and it returns the remainder after dividing the number on its left by the number on its right. For example, 5 % 2 returns 1, the remainder after dividing 5 by 2.\n",
    "\n",
    "Modulo will come up again and again in your coding journey as it is necessary for many algorithms to calculate remainders.\n",
    "\n",
    "- What is the remainder after dividing 10203040506070809 by 987654321?\n",
    "- One canonical use case for the modulo operator is the divisibility test, determining whether one number is evenly divisible by another. How could you use modulo to test this?"
   ]
  },
  {
   "cell_type": "code",
   "execution_count": 20,
   "id": "46ec02ef",
   "metadata": {},
   "outputs": [],
   "source": [
    "## write your code here"
   ]
  },
  {
   "cell_type": "markdown",
   "id": "09d5c43c",
   "metadata": {},
   "source": [
    "## Variables\n",
    "\n",
    "It's useful to store data for later use, and to reference it by a descriptive name instead of explicitly writing out \"2.7\" (or whatever) every time you need to do math. To do this you use the \"=\" symbol, known as the assignment operator.\n",
    "\n",
    "The assignment works by assigning what's on the left to what's on the right:\n",
    "- [your variable name] = [your data]\n",
    "\n",
    "\n",
    "You can use this to store multiple model inputs:\n",
    "- whiskers_per_cat = 78\n",
    "- cats_per_shelter = 112\n",
    "- shelters_in_us = 4019\n",
    "\n",
    "You can also do math to variables just like with the numbers themselves:\n",
    "- whiskers_grand_total = whiskers_per_cat * cats_per_shelter * shelters_in_us\n",
    "\n",
    "Try it below. Note that once you assign the \"whiskers_grand_total\" variable, you'll have to \n",
    "call \"print\" if you want to see anything. At the end of your code, type \"print(whiskers_grand_total).\""
   ]
  },
  {
   "cell_type": "markdown",
   "id": "8d4eb8f5",
   "metadata": {},
   "source": [
    "<div class=\"alert alert-block alert-danger\">\n",
    "You can name variables <em>almost</em> anything you want, \n",
    "but there are some \"reserved words\" in the Python language that can never be used as variable names. They include \"True,\" \"False,\" \"None,\" \"if,\" \"and,\" and others.\n",
    "    You can browse the full list <a href=\"https://realpython.com/lessons/reserved-keywords/\">here.</a> Variable names also cannot begin with anything other than a letter, and cannot contain spaces.\n",
    "</div>\n",
    "\n",
    "\n"
   ]
  },
  {
   "cell_type": "code",
   "execution_count": 21,
   "id": "61a9cd21",
   "metadata": {},
   "outputs": [],
   "source": [
    "## write your code here"
   ]
  },
  {
   "cell_type": "markdown",
   "id": "49d42db8",
   "metadata": {},
   "source": [
    "Variable assignment intuitively reads left to right, but in fact variables are assigned _right to left_ - this means something like this is legal:\n",
    "- x = 5\n",
    "- x = x * 6\n",
    "\n",
    "The variable x comes out the other side with a value of 30, and this is perfectly legal because Python reads the right side of the second line first."
   ]
  },
  {
   "cell_type": "markdown",
   "id": "40d0f8af",
   "metadata": {},
   "source": [
    "## Data types\n",
    "\n",
    "Although everything we've done so far has involved numbers, you've actually already encountered _two_ data types in your python journey: integers and floats.\n",
    "\n",
    "Integers, or ints, are whole numbers with no decimals, positive or negative, including zero. Floats, or \"floating point numbers,\" are numbers with decimals. Fractions are always represented as floats in Python.\n",
    "\n",
    "The reason Python explicitly separates ints and floats is because they are represented differently in your computer's memory, a distinction that is unimportant for most practical coding. Python will automatically interconvert between ints and floats so you won't often have to think about the difference. Some hardcore coders consider this a drawback because it excuses developers from the need to think hard about the type of all their data, but it does make life a lot easier.\n",
    "\n",
    "If needed, you can manually interconvert using the int() and float() functions.\n",
    "\n",
    "What is produced by the following expressions?\n",
    "- 2 * 2\n",
    "- 2.0 * 2.0\n",
    "- 2 * 2.0\n",
    "- int(2.999999)\n",
    "- float(5)"
   ]
  },
  {
   "cell_type": "code",
   "execution_count": null,
   "id": "745eaab0",
   "metadata": {},
   "outputs": [],
   "source": [
    "## write your code here"
   ]
  },
  {
   "cell_type": "markdown",
   "id": "7f3520fc",
   "metadata": {},
   "source": [
    "In addition to ints and floats, you'll often need to use text in data analysis - for example, a housing dataset might have numeric columns representing sale price and years on market, and also text columns representing neighborhood name, address, current owner name, etc.\n",
    "\n",
    "There are three different types of characters that can be used to create strings. These are called \"string delimiters\":\n",
    "- Single quotes, e.g., 'abc'\n",
    "- Double quotes, e.g., \"abc\"\n",
    "- Triple double quotes, e.g., \"\"\"abc\"\"\"\n",
    "    - This last method is the only legal way to create a string that crosses over multiple lines.\n",
    "\n",
    "Strings are allowed to use the \"+\" operator, which concatenates (combines) two strings together. Strings can't use any of the other arithmetic operators.\n",
    "\n",
    "Try it yourself - assign the following strings to three different variables:\n",
    "- I go to business school\n",
    "- I'm a coder\n",
    "- I use a language called \"Python\"\n",
    "\n",
    "Print each one on its own."
   ]
  },
  {
   "cell_type": "code",
   "execution_count": 1,
   "id": "6647fcec",
   "metadata": {},
   "outputs": [],
   "source": [
    "## write your code here"
   ]
  },
  {
   "cell_type": "markdown",
   "id": "7f24077f",
   "metadata": {},
   "source": [
    "In writing code, you will often need to check whether something is true or false:\n",
    "- Does one number equal another?\n",
    "- Is a string contained in another string?\n",
    "- Does a variable exist?\n",
    "\n",
    "To test these types of questions, Python has a built-in data type called boolean. Booleans can only be True, or False. True and False are Python keywords (note the capitalized first letters); you'll notice them turn green when you type them into Jupyter notebooks.\n",
    "\n",
    "Booleans can be directly created (e.g., `x = True`), but they also result from applying tests to data in Python. Say we have two variables: `x = 5; y = 6` - how do we test whether they are equal? This is done with two equals signs - the equality operator.\n",
    "\n",
    "`x == y #returns False`\n",
    "`x == y - 1 #returns True`\n",
    "`False == False #returns True`\n",
    "`2 > 1 #returns True`\n",
    "`2 > 2 #returns False`\n",
    "\n",
    "Try it yourself:\n",
    "- Is the remainder when dividing 838114395 by 67890 greater than 12000?"
   ]
  },
  {
   "cell_type": "code",
   "execution_count": 5,
   "id": "d2296662",
   "metadata": {},
   "outputs": [
    {
     "data": {
      "text/plain": [
       "True"
      ]
     },
     "execution_count": 5,
     "metadata": {},
     "output_type": "execute_result"
    }
   ],
   "source": [
    "## write your code here"
   ]
  },
  {
   "cell_type": "markdown",
   "id": "7e78f171",
   "metadata": {},
   "source": [
    "## Getting help\n",
    "\n",
    "Now print the three strings together on one line using the \"+\" operator. Is anything different? What's going on?\n",
    "\n",
    "There are three ways to get help on a coding issue:\n",
    "- Ask someone with more experience (that's what I'm here for)\n",
    "- Ask Google. There are two types of results that are the most useful:\n",
    "    - StackOverflow threads. StackOverflow (SO) is an engineering Q&A site that contains answers to almost every question you could ever ask. The community can be kind of spicy if you don't ask questions just the right way, so beware.\n",
    "    - Official documentation made by the person who created whatever tool is giving you trouble\n",
    "    - Almost everything else (W3School, GitHub threads, Mozilla Developer Network, etc) is second-best (in my opinion)\n",
    "- ChatGPT. I suggest asking Chat GPT our question about the single quote and seeing what you get back.\n",
    "    - ChatGPT can also write code for you. This is useful as a first draft and I encourage you to use it for that. However, for anything you turn in, the code needs to be 100% yours, even if you use ChatGPT as a jumping-off point.\n",
    "    - Within two weeks of ChatGPT's release, detectors were built and publicly deployed to detect whether text was written by ChatGPT. These tools are in wide use, so plagiarize at your own risk.\n",
    "    \n",
    "We're going to introduce a lot of coding concepts here in class, and I of course am always available for help. However, the assignments for class intentionally rely on concepts we will not have covered - if and when this happens, know that getting help in unfamiliar challenges is part of every coder's life (including mine)."
   ]
  },
  {
   "cell_type": "markdown",
   "id": "862925b9",
   "metadata": {},
   "source": [
    "## Type coercion\n",
    "\n",
    "Now you know about three data types: ints, floats, and strings. These can be freely interconverted using the int(), float(), and str() methods. However, note that converting a float to an int executes a \"floor\" or \"round down\" operation, so int(2.9) will return 2.\n",
    "\n",
    "Try it below:\n",
    "- Assign a variable to contain the result of dividing 12345 by 54321.\n",
    "    - What data type will this variable contain?\n",
    "- Now assign a new variable the value \"The answer is: \"\n",
    "- Use the \"+\" operator to combine the result of the division with the string you created.\n",
    "    - What method do you have to use to make this legal?"
   ]
  },
  {
   "cell_type": "markdown",
   "id": "c5569231",
   "metadata": {},
   "source": [
    "<div class=\"alert alert-block alert-info\">\n",
    "As with dynamic typing, some hardcore coders consider type coercion a crutch for weak developers. In older languages like C, all variables must be explicitly assigned a data type when they are created, and this type cannot be changed. There are good things about this (it is one reason C is faster than Python), but dynamic typing does make development easier.\n",
    "</div>"
   ]
  },
  {
   "cell_type": "markdown",
   "id": "ec701a50",
   "metadata": {},
   "source": [
    "## Comments\n",
    "\n",
    "Comments are among the most critical, controversial, inconsistent, and abused concepts in the world of coding. The idea is simple: comments are lines of code that are not executed by Python, and only exist to be read by other coders (or by you, six months later, when you have forgotten what you were thinking when you wrote your code).\n",
    "\n",
    "Comments should clarify your thinking and help people understand why you made the choices you made. All code can be written multiple ways, so clarifying the tradeoffs you decided to make is critical. Comments can be made in two ways:\n",
    "- Using the # symbol - anything after this symbol will not be read by Python\n",
    "- Using triple-double quotes\n",
    "\n",
    "You'll be graded in every assignment and presentation on the presence and quality of your code comments. Build a habit right now, today, of commenting your code liberally."
   ]
  },
  {
   "cell_type": "code",
   "execution_count": null,
   "id": "4e5b8c9b",
   "metadata": {},
   "outputs": [],
   "source": [
    "# this is a comment\n",
    "x = 5 # you can initiate a comment even on a line that also contains code\n",
    "\n",
    "\"\"\"\n",
    "this is also a comment.\n",
    "\n",
    "it's often useful to comment across multiple lines, and the triple-double quote\n",
    "makes that easier.\n",
    "\"\"\""
   ]
  },
  {
   "cell_type": "markdown",
   "id": "18f846d3",
   "metadata": {},
   "source": [
    "<div class=\"alert alert-block alert-info\">\n",
    "There is an informal rule in the developer world that lines of code should never exceed 80 characters. In Jupyter, you'll know your lines are too long if a scroll bar to scroll left and right appears at the bottom of your code cell. If this happens, find ways to divide your longest lines into multiple lines.\n",
    "</div>"
   ]
  },
  {
   "cell_type": "markdown",
   "id": "4d593f66",
   "metadata": {},
   "source": [
    "## Data structures\n",
    "\n",
    "So far we've dealt with singleton data types: one int, one float, one string at a time. But datasets are not singletons; they're large structures of many pieces of data. One way to represent many pieces of data is to use a _list_.\n",
    "\n",
    "Lists are declared with either the \"list()\" function, or by using square brackets ([]). The following are equivalent:\n",
    "- list((1,2,3))\n",
    "    - Note the double parentheses - we'll understand this in a moment.\n",
    "- [1,2,3]\n",
    "\n",
    "Lists are exactly what they sound like: ordered collections of data. In some languages, lists (often called \"arrays\" in other settings) can contain only one data type, e.g., all ints, or all floats, or all strings. However, in Python they can contain anything, including mixed data. The following are legal lists - though I will say, while there's nothing wrong with them, these grab-bags of data do make most developers feel icky:\n",
    "- [1,1.5,2] (ints mixed with floats)\n",
    "- [\"Pineapple\", 2, 3.14159, [\"another\",\"list\",2], \"Jelly\"] (ints, floats, strings, and lists)\n",
    "- [1,1,2,3,5,8] (ints only)\n",
    "\n",
    "Try it below:\n",
    "- Create a list with three elements: your first name, your last name, and your age.\n",
    "- Assign the list to a variable with whatever name you want.\n",
    "- Print the list."
   ]
  },
  {
   "cell_type": "code",
   "execution_count": null,
   "id": "08007e3e",
   "metadata": {},
   "outputs": [],
   "source": [
    "## write your code here"
   ]
  },
  {
   "cell_type": "markdown",
   "id": "265b2a15",
   "metadata": {},
   "source": [
    "Now you know how to put data in lists. How do you get it out? For example, what if you want to access just your last name from the list above?\n",
    "\n",
    "Python uses bracket notation to access entries in lists. So if you have a list called \"my_list,\" you can access the first element of that list by typing:\n",
    "- my_list[0]\n",
    "\n",
    "Note that the first element of the list is element _zero_, not element one - if you asked for my_list[1], you'd get the _second_ element. This is because Python is \"zero-indexed.\" This takes some getting used to conceptually, but is convenient for a lot of reasons which we'll find out about later.\n",
    "\n",
    "Try it below:\n",
    "- Create the list [\"the\",\"quick\",\"brown\",\"fox\",\"jumped\",\"over\",\"the\",\"lazy\",\"dog\"].\n",
    "- Assign the last element of the list to a new variable and print it out.\n",
    "- Create a list with the first 10 Fibonacci numbers and assign it to a variable.\n",
    "- Modify the list so the last number is divided by 3.\n"
   ]
  },
  {
   "cell_type": "code",
   "execution_count": null,
   "id": "d85b59c6",
   "metadata": {},
   "outputs": [],
   "source": [
    "## write your code here"
   ]
  },
  {
   "cell_type": "markdown",
   "id": "cf50c745",
   "metadata": {},
   "source": [
    "## Tuples\n",
    "\n",
    "Similar to lists, tuples store multiple pieces of data. Unlike lists, tuples cannot be modified.\n",
    "\n",
    "Tuples are created the same way as lists, except they are wrapped in regular parentheses instead of square brackets. Everything else about tuples is the same as with lists: they can contain different types of data; they are accessed by bracket notation; they are zero-indexed. Tuples are useful for more advanced programming tasks, which we'll encounter in future weeks. For now, just remember they exist.\n",
    "\n",
    "Try it below:\n",
    "- Create a list with the first 10 Fibonacci numbers and assign it to a variable.\n",
    "- Try to modify the list so the last number is divided by 3. What happens?\n"
   ]
  },
  {
   "cell_type": "code",
   "execution_count": null,
   "id": "ee086306",
   "metadata": {},
   "outputs": [],
   "source": [
    "## write your code here"
   ]
  },
  {
   "cell_type": "markdown",
   "id": "6f547f66",
   "metadata": {},
   "source": [
    "<div class=\"alert alert-block alert-info\">\n",
    "Changing data is also technically known as \"mutating\" it; therefore, data types that can be modified, like lists, are called \"mutable,\" as in, \"able to be mutated.\" Data types like tuples that can't be changed are called \"immutable.\"\n",
    "</div>"
   ]
  },
  {
   "cell_type": "markdown",
   "id": "347f15e0",
   "metadata": {},
   "source": [
    "## Dictionaries\n",
    "\n",
    "There's one more important \"collection\" type object in Python: the dictionary. Dictionaries are also known as collections \"key-value pairs,\" and they are used as lookup lists for pieces of related data. Think about a collection of student ID -> student name mappings:\n",
    "\n",
    "- \"1030204\": \"Penk, Toby\"\n",
    "- \"1030205\": \"Doe, John\"\n",
    "- ... etc\n",
    "\n",
    "So now if you have a program that knows student ID's, you can look up the student names here to display it ona webpage, print an ID badge, etc etc. The syntax of dictionaries uses curly braces ({}), commas, and colons:\n",
    "\n",
    "```\n",
    "{\n",
    "    \"1030204\": \"Penk, Toby\",\n",
    "    \"1030205\": \"Doe, John\"\n",
    "}\n",
    "```\n",
    "\n",
    "All of the keys (the entries on the left) and the values (the entries on the right) are separated by colons, and the key-value pairs themselves are separated by commas. Strictly speaking, the line spacing and visual formatting doesn't matter - you could create this dictionary all one line, or with different indentation, etc. But the way I've declared it is a standard because it's easy to read.\n",
    "\n",
    "Keys always have to be ints or strings, whereas values can be any data type at all, including other dictionaries. Dictionaries can be deeply nested, with dictionaries being the keys of dictionaries being the keys of dictionaries.... data types like this are the nightmares of CS students, and we will not discuss them in this class.\n",
    "\n",
    "Try it yourself:\n",
    "- Create a dictionary where the keys are your class names, and the values are the names of the teachers of those classes.\n",
    "- Print out the name of your favorite teacher by calling the appropriate key-value pair from the dictionary.\n"
   ]
  },
  {
   "cell_type": "markdown",
   "id": "7e31101f",
   "metadata": {},
   "source": [
    "## An inflection point\n",
    "\n",
    "You've learned a ton of new concepts, and every single one - even the basic idea of integers as a Python data type - has conceptual depth we couldn't hope to cover in this class. However, all coders are on a lifelong journey of going deeper with these concepts, and you have now fully begun yours. You are a coder."
   ]
  },
  {
   "cell_type": "markdown",
   "id": "338405e0",
   "metadata": {},
   "source": [
    "## Exercise\n",
    "\n",
    "Now it's time to practice. A lot of the stuff you have to do is stuff we didn't cover together, but you should be able to find all the answers on Google or ChatGPT. I'm also available if you're stumped.\n",
    "\n",
    "This is not a graded assignment but it contains the same concepts that will be on your first graded assignment, so you might as well do it now, when the stakes are low, so the real assignment with its real stakes will be a breeze.\n"
   ]
  },
  {
   "cell_type": "code",
   "execution_count": null,
   "id": "009c2968",
   "metadata": {},
   "outputs": [],
   "source": []
  },
  {
   "cell_type": "markdown",
   "id": "385ba01d",
   "metadata": {},
   "source": [
    "## Assignment\n",
    "\n",
    "- Make a GitHub\n",
    "- Install Python and Jupyter on your machine; run your first notebook on your browser\n",
    "- Write five ideas for a dataset you might perform your midterm or final analysis on."
   ]
  },
  {
   "cell_type": "code",
   "execution_count": null,
   "id": "84d9de59",
   "metadata": {},
   "outputs": [],
   "source": []
  },
  {
   "cell_type": "code",
   "execution_count": null,
   "id": "17ae001d",
   "metadata": {},
   "outputs": [],
   "source": []
  },
  {
   "cell_type": "code",
   "execution_count": null,
   "id": "1f1b469e",
   "metadata": {},
   "outputs": [],
   "source": [
    "slices\n",
    "appending\n",
    "popping"
   ]
  },
  {
   "cell_type": "code",
   "execution_count": null,
   "id": "23401d4d",
   "metadata": {},
   "outputs": [],
   "source": [
    "tuples"
   ]
  },
  {
   "cell_type": "code",
   "execution_count": null,
   "id": "ea1f660c",
   "metadata": {},
   "outputs": [],
   "source": [
    "dicts"
   ]
  },
  {
   "cell_type": "code",
   "execution_count": null,
   "id": "157dfdec",
   "metadata": {},
   "outputs": [],
   "source": []
  },
  {
   "cell_type": "code",
   "execution_count": null,
   "id": "463b7742",
   "metadata": {},
   "outputs": [],
   "source": []
  },
  {
   "cell_type": "code",
   "execution_count": null,
   "id": "7770e3cd",
   "metadata": {},
   "outputs": [],
   "source": []
  },
  {
   "cell_type": "code",
   "execution_count": null,
   "id": "2ee5a09e",
   "metadata": {},
   "outputs": [],
   "source": [
    "control flow - if statements"
   ]
  },
  {
   "cell_type": "code",
   "execution_count": null,
   "id": "50805248",
   "metadata": {},
   "outputs": [],
   "source": [
    "loops"
   ]
  },
  {
   "cell_type": "code",
   "execution_count": null,
   "id": "a990588a",
   "metadata": {},
   "outputs": [],
   "source": [
    "functions"
   ]
  },
  {
   "cell_type": "code",
   "execution_count": null,
   "id": "7dd3d26b",
   "metadata": {},
   "outputs": [],
   "source": [
    "map, filter, and reduce"
   ]
  },
  {
   "cell_type": "code",
   "execution_count": null,
   "id": "bf6fdbe8",
   "metadata": {},
   "outputs": [],
   "source": []
  }
 ],
 "metadata": {
  "kernelspec": {
   "display_name": "Python 3 (ipykernel)",
   "language": "python",
   "name": "python3"
  },
  "language_info": {
   "codemirror_mode": {
    "name": "ipython",
    "version": 3
   },
   "file_extension": ".py",
   "mimetype": "text/x-python",
   "name": "python",
   "nbconvert_exporter": "python",
   "pygments_lexer": "ipython3",
   "version": "3.8.9"
  }
 },
 "nbformat": 4,
 "nbformat_minor": 5
}
