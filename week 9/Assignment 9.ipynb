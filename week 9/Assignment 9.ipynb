{
 "cells": [
  {
   "cell_type": "markdown",
   "id": "e7ad646e",
   "metadata": {},
   "source": [
    "# Assignment 9\n",
    "\n",
    "### Due 4/13 at 1:30PM ET"
   ]
  },
  {
   "cell_type": "markdown",
   "id": "a38d5c7e",
   "metadata": {},
   "source": [
    "Using <a href=\"https://www.kaggle.com/datasets/sohier/calcofi\">Kaggle's oceanic dataset</a> (you will need a Kaggle account to download this):\n",
    "- Try several linear models to predict water temperature as a function of other variables\n",
    "- Examine the variables, their correlations with each other, and their contribution to the final model. Train a new linear regression with fewer variables and report how much predictive power your models retain as you shrink the number of variables to 10 or fewer.\n",
    "\n",
    "Using the <a href=\"https://github.com/tobypenk/data-bootcamp/raw/main/week%203/titanic.csv\">titanic dataset</a>:\n",
    "- Perform data cleaning, including imputation, getting dummies, and dropping columns\n",
    "- Run at least 3 different classifier models to predict survival and report the performance of each"
   ]
  },
  {
   "cell_type": "code",
   "execution_count": null,
   "id": "bacd7d24",
   "metadata": {},
   "outputs": [],
   "source": []
  }
 ],
 "metadata": {
  "kernelspec": {
   "display_name": "Python 3 (ipykernel)",
   "language": "python",
   "name": "python3"
  },
  "language_info": {
   "codemirror_mode": {
    "name": "ipython",
    "version": 3
   },
   "file_extension": ".py",
   "mimetype": "text/x-python",
   "name": "python",
   "nbconvert_exporter": "python",
   "pygments_lexer": "ipython3",
   "version": "3.8.9"
  }
 },
 "nbformat": 4,
 "nbformat_minor": 5
}
