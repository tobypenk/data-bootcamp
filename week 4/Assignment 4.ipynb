{
 "cells": [
  {
   "cell_type": "markdown",
   "id": "1b1ad981",
   "metadata": {},
   "source": [
    "# Assignment 4\n",
    "\n",
    "## Due 2023-03-02 at 1:30pm ET\n",
    "\n",
    "## _Last assignment before Spring Break_\n",
    "\n",
    "As you complete this week's assignment, be sure to comment your code. Document functions with purpose, inputs, and outputs as we discussed in class. Leave comments on lines of code that introduce big moving pieces like a loop. You don't need to comment every line. 30% of this week's grade will be based on your code documentation.\n",
    "\n",
    "1. Create a poker hand evaluator. Given a list of 5 cards, notated the same way as last week's assignment (e.g., [\"2S\",\"7H\",\"JH\",\"10D\",\"10H\"]), <a href=\"https://www.pokerstrategy.com/poker-hand-charts-evaluations/\">determine the hand's ranking</a> on a scale of 1 to 10, where 1 is a high-card hand and 10 is a royal flush. Your function should take a list and output an integer from 1 to 10. It should handle erroneous inputs gracefully (meaning it acknowledges them but doesn't throw a Python error).\n",
    "\n",
    "    - Evaluate every hand in <a href=\"https://raw.githubusercontent.com/tobypenk/data-bootcamp/main/week%204/cards.csv\">this dataset.</a> Note that there are several rows with inputs that are illegal in various ways; your code should disregard any line that doesn't contain a legal, five-card poker hand. What is the sum total of all the scores across all the hands?\n",
    "\n",
    "    - _[Writing question]_ Calculations are performed any time an _operator_ is called. Operators include the equality test (==), assignment (=), arithmetic (+,-,/,\\*), exponentiation, etc. For the code you wrote to solve the first part of this question, how many calculations were performed by your computer in total? An approximate answer to this is acceptable.\n",
    "    \n",
    "    \n",
    "    \n",
    "    \n",
    "\n",
    "2. Download <a href=\"https://github.com/tobypenk/data-bootcamp/tree/main/week%204/apartments\">this folder of .csv files.</a> This is a web-scraped list of apartments for rent in NYC.\n",
    "\n",
    "    - What kinds of analysis could be performed with this data?\n",
    "    - What cleaning needs to be performed to make the bedroom and pricing columns useful?\n",
    "    - How much of each column is missing / null? What could you do to fix this?\n",
    "    - Could categories be applied to the location and post_time columns? What categories?\n",
    "    - Perform the cleaning and categorization you mentioned above and write a .csv file. Submit the file with your assignment.\n",
    "\n",
    "\n",
    "\n",
    "\n",
    "3. Select a dataset for your midterm project. You'll perform an exploratory analysis and data cleaning project, which you'll turn in as a Python notebook with markdown and code cells. Your dataset should:\n",
    "\n",
    "    - Be at least 3,000 rows long\n",
    "    - Require some cleanup in multiple columns\n",
    "    - Be genuinely interesting to you\n",
    "    - Require some transformations - e.g., mapping a column into dummy values, cleaning a string column, etc\n",
    "    \n",
    "    \n",
    "    "
   ]
  },
  {
   "cell_type": "code",
   "execution_count": null,
   "id": "d264f734",
   "metadata": {},
   "outputs": [],
   "source": []
  }
 ],
 "metadata": {
  "kernelspec": {
   "display_name": "Python 3 (ipykernel)",
   "language": "python",
   "name": "python3"
  },
  "language_info": {
   "codemirror_mode": {
    "name": "ipython",
    "version": 3
   },
   "file_extension": ".py",
   "mimetype": "text/x-python",
   "name": "python",
   "nbconvert_exporter": "python",
   "pygments_lexer": "ipython3",
   "version": "3.8.9"
  }
 },
 "nbformat": 4,
 "nbformat_minor": 5
}
