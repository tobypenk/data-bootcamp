{
 "cells": [
  {
   "cell_type": "markdown",
   "id": "74df3558",
   "metadata": {},
   "source": [
    "# Assignment 5\n",
    "\n",
    "### Time series"
   ]
  },
  {
   "cell_type": "markdown",
   "id": "c749bef5",
   "metadata": {},
   "source": [
    "1. Read <a href=\"https://github.com/tobypenk/data-bootcamp/blob/main/week%207/pizza/orders.csv?raw=true\">this dataset of pizza orders.</a> Answer these questions:\n",
    "    - Which store ID had the greatest revenue on March 5, 2021?\n",
    "    - On what date did customer ID C000015 spend the most?\n",
    "    - How many orders have been placed between 1 and 5 AM?\n",
    "    \n",
    "\n",
    "2. Read <a href=\"https://github.com/tobypenk/data-bootcamp/raw/main/week%207/pizza/stores.csv\">this dataset of pizza stores</a> and merge it to the dataset of orders.\n",
    "    - During what month did stores in the state of Nevada collect the most revenue?\n",
    "    - Which city in California sold the largest number of items in January, 2021?\n",
    "    - In what city are average item values (e.g., revenue divided by number of items sold) the lowest?\n",
    "    \n",
    "    \n",
    "3. Create a subset of the data just for store ID S302800.\n",
    "    - Resample the data so it contains daily totals\n",
    "    - Plot the line chart of daily sales for the store\n",
    "    - _Challenge (not required for full credit):_ forecast daily sales for the year 2023 for this store\n",
    "    - _hint: you will have an easier time resampling if you set utc=True when you call pd.to_datetime_"
   ]
  },
  {
   "cell_type": "markdown",
   "id": "811c2780",
   "metadata": {},
   "source": [
    "_Bonus_: solve <a href=\"https://projecteuler.net/problem=18\">Project Euler problem #18</a>."
   ]
  }
 ],
 "metadata": {
  "kernelspec": {
   "display_name": "Python 3 (ipykernel)",
   "language": "python",
   "name": "python3"
  },
  "language_info": {
   "codemirror_mode": {
    "name": "ipython",
    "version": 3
   },
   "file_extension": ".py",
   "mimetype": "text/x-python",
   "name": "python",
   "nbconvert_exporter": "python",
   "pygments_lexer": "ipython3",
   "version": "3.8.9"
  }
 },
 "nbformat": 4,
 "nbformat_minor": 5
}
