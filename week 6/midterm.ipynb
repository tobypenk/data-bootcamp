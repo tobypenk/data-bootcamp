{
 "cells": [
  {
   "cell_type": "markdown",
   "id": "075f89f2",
   "metadata": {},
   "source": [
    "# Midterm project\n",
    "\n",
    "### Due 3/23 before class\n",
    "\n",
    "### To be presented live"
   ]
  },
  {
   "cell_type": "markdown",
   "id": "82e448e8",
   "metadata": {},
   "source": [
    "Perform the following tasks:\n",
    "\n",
    "- Select a dataset\n",
    "- Perform exploratory analysis as we have done in class with datasets like the Titanic survivorship data, including:\n",
    "    - Describing the dataset's columns and rows\n",
    "    - Noting any aspects of the data that might prove challenging for a mathematical model (e.g., lots of missing values in some column; lots of string data that is hard to categorize; etc)\n",
    "- Perform data cleaning, including:\n",
    "    - Filtering out rows\n",
    "    - Dealing with missing data\n",
    "    - Cleaning columns with messy data like inconsistently-formatted strings\n",
    "    - You don't need to use all these techniques; only the ones that are directly relevant to your dataset\n",
    "- Perform feature engineering, including:\n",
    "    - Developing dummy variables for columns with several distinct categories\n",
    "    - Creating derived columns like we did with \"mentions_time\" in our analysis of class commentary\n",
    "    - Again, you don't need to use all the available feature engineering techniques\n",
    "- Present some summary statistics on your data, including:\n",
    "    - How many rows are there? How many contain at least one null / nan value?\n",
    "    - What type of data is contained in each column? How spread out are the values of each column?\n",
    "    - Which columns contain data that could reasonably be predicted if given the data in the other columns?\n",
    "    - What real-world problems could be addressed with your dataset? These could be, but don't have to be, business problems.\n",
    "- Discuss what your dataset can and cannot be used for:\n",
    "    - What business or real-world decisions could be made on the basis of this data?\n",
    "    - What business or real-world decisions could _not_ be made on the basis of this data, and what refinements or additions would the dataset need to be more useful?"
   ]
  },
  {
   "cell_type": "markdown",
   "id": "fa5d542a",
   "metadata": {},
   "source": [
    "- _Challenge_: use a regression method from Python's sklearn or statsmodels packages to create either a logistic regression or a linear regression on one of the features in your dataset.\n",
    "    - Divide your data into a \"y\" column (the value you're predicting) and an \"X\" set (the remaining columns)\n",
    "    - Explore the correlation among columns, and drop one of any pair of columns that are very redundant (as was the case with Pclass and Fare in the titanic data)\n",
    "    - Report the accuracy of your model, and explore whether smaller sets of columns would have provided similar accuracy to the full set with less complexity\n",
    "    - For example, with the titanic data, we predicted survival (0/1) from the rest of the data, using a logistic regression\n",
    "    - For the Craigslist data, we predicted price from a combination of bedrooms, location, and some features of the title text using a linear regression\n",
    "    - ***This is not necessary to get full credit***"
   ]
  },
  {
   "cell_type": "markdown",
   "id": "7483100e",
   "metadata": {},
   "source": [
    "Submit your midterm as a jupyter notebook in Google Colab. Although you will do a lot of unstructured exploration to get to your final presentation, make sure the midterm submission itself is clean and well-formatted. Grading will be based on:\n",
    "- Demonstrated understanding of your dataset (40%)\n",
    "- Appropriateness of data cleaning and engineering techniques (30%)\n",
    "- Clarity and appearance of presentation (30%)"
   ]
  },
  {
   "cell_type": "markdown",
   "id": "e126456d",
   "metadata": {},
   "source": [
    "You will have the opportunity, but not the obligation, to present your midterm project in class. I will not add or subtract credit based on your decision to do this, but I highly, highly recommend it. My professional trajectory has been 80% influenced by the quality of my presentations, and only 20% by the quality of my actual analysis."
   ]
  },
  {
   "cell_type": "code",
   "execution_count": null,
   "id": "b97b54ed",
   "metadata": {},
   "outputs": [],
   "source": []
  }
 ],
 "metadata": {
  "kernelspec": {
   "display_name": "Python 3 (ipykernel)",
   "language": "python",
   "name": "python3"
  },
  "language_info": {
   "codemirror_mode": {
    "name": "ipython",
    "version": 3
   },
   "file_extension": ".py",
   "mimetype": "text/x-python",
   "name": "python",
   "nbconvert_exporter": "python",
   "pygments_lexer": "ipython3",
   "version": "3.8.9"
  }
 },
 "nbformat": 4,
 "nbformat_minor": 5
}
