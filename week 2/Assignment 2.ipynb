{
 "cells": [
  {
   "cell_type": "markdown",
   "id": "fd45755d",
   "metadata": {},
   "source": [
    "## Assignment 2\n",
    "\n",
    "### Due 2023-02-16, before class at 1:30pm ET\n",
    "\n",
    "Solve the following coding problems, each in its own cell of a notebook. Share the notebook with me, preferably by making me a collaborator on Google Colab. You can also email me a hard copy of your notebook instead; this just makes grading less fluid.\n",
    "\n",
    "1. Write a function called draw_cards that takes one argument, the number of cards to be drawn. Return a tuple containing that number of cards drawn at random without replacement from a <a href=\"https://en.wikipedia.org/wiki/Standard_52-card_deck\">standard 52-card playing deck</a>. Notate your cards with two characters: one for the card's value, and one for its suit. For example, the two of hearts would be \"2H\" and the ace of spades would be \"AS.\"\n",
    "    - An example return tuple when the function is given 4 as an input would be `(\"2C\",\"7S\",\"JS\",\"9H\")`\n",
    "    - Hint: use the functions `pop()` and `append()`\n",
    "    - Hint: use a `for` loop to initialize your list so you don't have to type out all 52 cards manually\n",
    "\n",
    "2. Write a function that takes a `list` of `int`s as an input and returns the sum of the squares of all the numbers whose square is not divisible by 3.\n",
    "    - For example, when given [1,2,3,5,6,10], the function should return 130 - the sum of 1, 4, 25, and 100.\n",
    "    - There are many ways to code this, but your implementation should use `map`, `filter`, and `reduce`.\n",
    "    - You can use `lambda` or externally defined functions.\n",
    "    \n",
    "3. Implement a better version of last week's currency converter, this time using a dictionary.\n",
    "    \n",
    "4. Map the list below to the string versions of each number - e.g., 1 becomes \"one,\" 20 becomes \"twenty,\" etc. How many total characters are in the resulting set? Don't consider any spaces or commas between words, just the letters themselves.\n",
    "    - [18, 9, 14, 8, 6, 3, 7, 4, 19, 14, 4, 13, 12, 13, 14, 14, 14, 16, 10, 15, 11, 19, 15, 10, 11, 13, 14, 0, 0, 15, 5, 10, 8, 1, 10, 1, 7, 6, 20, 19, 3, 0, 12, 13, 13, 15, 13, 2, 7, 3, 5, 7, 19, 20, 11, 11, 16, 19, 12, 18, 12, 8, 16, 15, 1, 6, 9, 4, 4, 14, 5, 17, 12, 3, 10, 18, 2, 7, 12, 13, 4, 16, 10, 11, 15, 19, 15, 17, 14, 20, 0, 14, 6, 5, 7, 9, 1, 3, 1, 3, 8, 2, 6, 2, 14, 16, 3, 7, 12, 12, 3, 7, 6, 8, 15, 20, 4, 20, 11, 2]\n",
    "    \n",
    "5. The list below represents days on which a customer of a video game played the game at least once. If a customer is inactive for 10 days or more in a row, they are considered \"churned.\" This designation is applied only once, so a customer who is inactive for 10 or 40 days in a row is considered to have churned once. Assume the customer starts the period with a full 10 days before they will be considered churned.\n",
    "    - For how many distinct periods was this customer considered churned?\n",
    "    - What was the customer's longest period of churn?\n",
    "\n",
    "6. _Challenge_: Solve <a href=\"https://projecteuler.net/problem=2\">Project Euler</a> problem #2."
   ]
  },
  {
   "cell_type": "code",
   "execution_count": 46,
   "id": "a6c60fa8",
   "metadata": {},
   "outputs": [],
   "source": [
    "import random\n",
    "\n",
    "\n",
    "listy = []\n",
    "\n",
    "for i in range(1000):\n",
    "    x = 1 if random.randint(1,10) <= 2 else 0\n",
    "    listy.append(x)"
   ]
  },
  {
   "cell_type": "code",
   "execution_count": 50,
   "id": "34e36f7f",
   "metadata": {},
   "outputs": [
    {
     "data": {
      "text/plain": [
       "'0,0,0,0,1,0,1,0,0,0,0,0,0,0,0,0,1,0,1,0,0,0,0,0,0,0,0,0,0,0,0,0,1,0,0,1,0,0,0,0,0,1,0,1,0,1,0,0,0,1,0,0,0,0,0,0,0,0,1,0,0,1,0,0,1,0,1,0,0,0,0,1,0,0,0,1,0,0,0,0,0,0,0,0,0,0,0,0,0,0,0,0,0,0,0,0,0,0,0,0,0,1,0,0,0,0,0,0,0,0,0,1,0,0,0,0,0,1,0,1,0,0,0,0,0,1,0,0,0,0,0,1,0,0,0,0,1,0,1,0,0,0,0,0,0,1,0,0,0,0,0,0,0,0,0,0,0,0,0,0,0,1,0,0,0,0,0,0,0,0,0,0,0,0,1,0,1,1,1,1,1,0,1,1,0,0,0,1,1,1,0,0,0,1,1,1,0,0,0,0,0,0,0,1,0,0,0,0,0,1,0,0,0,0,0,0,0,0,0,0,0,0,1,1,1,0,1,0,0,1,1,0,0,0,0,0,0,0,1,0,0,0,0,0,0,1,0,0,0,0,0,0,0,1,0,0,0,0,1,0,0,0,0,1,1,0,1,0,0,1,0,0,0,0,0,0,0,0,0,0,0,0,0,1,0,1,0,0,0,0,0,0,0,0,0,1,0,0,0,0,0,0,0,0,0,1,0,0,0,0,0,0,0,0,0,0,1,0,0,0,1,0,1,0,1,0,1,0,0,0,0,0,0,0,0,0,0,0,0,0,0,0,0,0,1,1,0,0,0,0,1,0,0,0,0,0,0,1,1,0,0,1,1,0,0,0,0,0,0,0,0,0,0,0,0,0,0,0,0,1,1,0,1,0,0,0,0,0,0,0,1,0,0,0,0,0,0,0,0,0,0,0,0,0,1,0,0,0,0,0,0,1,0,0,0,0,1,0,0,1,1,0,0,1,0,0,0,0,0,1,0,0,0,1,0,1,0,1,0,0,0,0,0,1,0,0,0,0,1,0,0,0,0,0,0,0,0,1,1,0,0,0,1,0,0,0,0,0,0,0,0,1,1,0,0,1,0,0,0,0,1,0,0,0,1,1,1,1,0,0,0,1,0,0,0,0,0,0,1,1,0,1,0,1,1,0,0,1,1,0,0,0,0,0,0,1,0,0,0,0,0,0,0,0,0,0,0,0,0,0,0,0,1,0,1,0,0,0,0,0,0,0,0,1,0,1,0,0,0,0,0,0,0,0,0,0,0,0,0,0,0,0,0,0,0,0,0,0,0,0,0,0,0,0,0,0,0,0,0,0,0,1,1,0,1,0,0,0,0,0,1,0,0,1,0,0,0,0,0,0,0,0,1,0,0,0,0,0,1,0,0,0,0,0,1,1,0,0,0,1,0,1,0,0,0,0,0,0,0,0,0,0,0,0,0,0,0,0,0,0,0,0,0,1,0,0,0,0,0,0,1,0,0,0,1,0,1,0,1,0,0,1,0,1,1,0,0,0,1,0,0,0,0,0,0,0,0,0,1,1,0,0,1,1,0,0,1,0,0,1,1,0,0,0,0,1,0,1,0,0,0,0,0,1,1,0,0,0,0,0,0,0,1,0,0,0,1,0,0,0,0,0,0,1,0,0,1,0,0,0,1,0,0,1,1,0,0,1,0,0,0,0,0,0,0,0,0,1,0,0,0,0,0,0,0,0,1,0,0,0,1,1,0,0,0,0,0,1,0,1,0,1,1,0,0,0,0,1,0,0,1,0,0,0,0,1,1,0,0,0,0,0,0,0,0,0,0,1,0,0,0,1,0,0,0,0,0,0,0,0,0,0,1,0,0,0,0,0,0,0,0,0,0,1,0,0,1,0,0,0,0,0,0,1,0,0,1,0,0,0,0,1,0,0,0,0,0,0,0,1,1,0,0,0,1,0,0,0,0,0,0,1,1,0,0,1,0,0,0,1,0,1,1,0,0,0,1,0,0,1,0,0,0,0,0,0,0,0,0,1,0,0,0,0,1,0,0,0,0,1,0,0,0,0,0,0,0,1,1,0,1,1,0,0,0,0,0,1,0,0,1,0,0,0,0,0,0,1,0,0,0,0,0,0,1,0,0,0,1,0,1,0,0,1,1,0,0,0,1,0,0,0,0,0,0,0,0,0,0,0,0,0,0,1,0,1,0,1,0,0,1,0,1,1,0,0,0,1,0,0,0,1,0,0,0,0,0,1,0,0,0,0,0,0,0,0,0,1,0,0'"
      ]
     },
     "execution_count": 50,
     "metadata": {},
     "output_type": "execute_result"
    }
   ],
   "source": [
    "\",\".join(list(map(lambda x: str(x),listy)))"
   ]
  },
  {
   "cell_type": "code",
   "execution_count": null,
   "id": "1ecb27fe",
   "metadata": {},
   "outputs": [],
   "source": [
    "consecutive_0 = 0\n",
    "is_churned = False\n",
    "churns = 0\n",
    "\n",
    "for i in listy:\n",
    "    if i == 1:\n",
    "        if consecutive_0 >= 10: churns += 1\n",
    "        consecutive_0 = 0\n",
    "    else:\n",
    "        consecutive_0 += 1\n",
    "\n",
    "if consecut"
   ]
  }
 ],
 "metadata": {
  "kernelspec": {
   "display_name": "Python 3 (ipykernel)",
   "language": "python",
   "name": "python3"
  },
  "language_info": {
   "codemirror_mode": {
    "name": "ipython",
    "version": 3
   },
   "file_extension": ".py",
   "mimetype": "text/x-python",
   "name": "python",
   "nbconvert_exporter": "python",
   "pygments_lexer": "ipython3",
   "version": "3.8.9"
  }
 },
 "nbformat": 4,
 "nbformat_minor": 5
}
