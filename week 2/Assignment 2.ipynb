{
 "cells": [
  {
   "cell_type": "markdown",
   "id": "fd45755d",
   "metadata": {},
   "source": [
    "## Assignment\n",
    "\n",
    "1. Write a function called draw_cards that takes one argument, the number of cards to be drawn. Return a tuple containing that number of cards drawn at random without replacement from a <a href=\"https://en.wikipedia.org/wiki/Standard_52-card_deck\">standard 52-card playing deck</a>. Notate your cards with two characters: one for the card's value, and one for its suit. For example, the two of hearts would be \"2H\" and the ace of spades would be \"AS.\"\n",
    "    - An example return tuple when the function is given 4 as an input would be `(\"2C\",\"7S\",\"JS\",\"9H\")`\n",
    "    - Hint: use the functions `pop()` and `append()`\n",
    "    - Hint: use a `for` loop to initialize your list so you don't have to type out all 52 cards manually\n",
    "\n",
    "2. Write a function that takes a `list` of `int`s as an input and returns the sum of the squares of all the numbers whose square is not divisible by 3.\n",
    "    - For example, when given [1,2,3,5,6,10], the function should return 130 - the sum of 1, 4, 25, and 100.\n",
    "    - There are many ways to code this, but your implementation should use `map`, `filter`, and `reduce`.\n",
    "    \n",
    "3. Read this dataset into a pandas DataFrame. etc etc\n",
    "\n",
    "4. Implement a better version of last week's currency converter, this time using a dictionary."
   ]
  }
 ],
 "metadata": {
  "kernelspec": {
   "display_name": "Python 3 (ipykernel)",
   "language": "python",
   "name": "python3"
  },
  "language_info": {
   "codemirror_mode": {
    "name": "ipython",
    "version": 3
   },
   "file_extension": ".py",
   "mimetype": "text/x-python",
   "name": "python",
   "nbconvert_exporter": "python",
   "pygments_lexer": "ipython3",
   "version": "3.8.9"
  }
 },
 "nbformat": 4,
 "nbformat_minor": 5
}
