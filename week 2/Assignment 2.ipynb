{
 "cells": [
  {
   "cell_type": "markdown",
   "id": "fd45755d",
   "metadata": {},
   "source": [
    "## Assignment\n",
    "\n",
    "1. Write a function called draw_cards that takes one argument, the number of cards to be drawn. Return a tuple containing that number of cards drawn at random without replacement from a <a href=\"https://en.wikipedia.org/wiki/Standard_52-card_deck\">standard 52-card playing deck</a>. Notate your cards with two characters: one for the card's value, and one for its suit. For example, the two of hearts would be \"2H\" and the ace of spades would be \"AS.\"\n",
    "    - An example return tuple when the function is given 4 as an input would be `(\"2C\",\"7S\",\"JS\",\"9H\")`\n",
    "    - Hint: use the functions `pop()` and `append()`\n",
    "    - Hint: use a `for` loop to initialize your list so you don't have to type out all 52 cards manually\n",
    "\n",
    "2. Write a function that takes a `list` of `int`s as an input and returns the sum of the squares of all the numbers whose square is not divisible by 3.\n",
    "    - For example, when given [1,2,3,5,6,10], the function should return 130 - the sum of 1, 4, 25, and 100.\n",
    "    - There are many ways to code this, but your implementation should use `map`, `filter`, and `reduce`.\n",
    "    \n",
    "3. Implement a better version of last week's currency converter, this time using a dictionary.\n",
    "    \n",
    "4. Read <a href=\"https://github.com/tobypenk/data-bootcamp/blob/main/week%202/20230208%20IDG%20data.csv\">this dataset</a> into a pandas dataframe. It is a dataset of _drug targets_, molecules in the human body that can be the targets of pharmaceutical products. Using groupby, answer the following questions:\n",
    "    - Which disease (given by the \"Linked Disease\" column) has the largest number of associated drug targets?\n",
    "    - Which \"Target Development Level\" has the largest number of associated targets?\n",
    "    - How many distinct Target Development Levels are there?\n",
    "        - Which diseases have the most associated targets for each of the distinct development levels?\n",
    "    - Write the grouped dataframe by target\n",
    "    - Note - you can download the data by navigating to the linked page, right-clicking the \"raw\" button, and saving the linked file.\n",
    "\n"
   ]
  },
  {
   "cell_type": "code",
   "execution_count": null,
   "id": "209f7128",
   "metadata": {},
   "outputs": [],
   "source": []
  }
 ],
 "metadata": {
  "kernelspec": {
   "display_name": "Python 3 (ipykernel)",
   "language": "python",
   "name": "python3"
  },
  "language_info": {
   "codemirror_mode": {
    "name": "ipython",
    "version": 3
   },
   "file_extension": ".py",
   "mimetype": "text/x-python",
   "name": "python",
   "nbconvert_exporter": "python",
   "pygments_lexer": "ipython3",
   "version": "3.8.9"
  }
 },
 "nbformat": 4,
 "nbformat_minor": 5
}
