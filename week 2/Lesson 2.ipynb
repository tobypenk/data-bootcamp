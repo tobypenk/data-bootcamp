{
 "cells": [
  {
   "cell_type": "markdown",
   "id": "35977166",
   "metadata": {},
   "source": [
    "## More on functions\n",
    "\n",
    "Last week, we learned that functions can return values to be used by other code. Here's an example:\n",
    "\n",
    "    def double(num):\n",
    "        return 2 * num\n",
    "        \n",
    "    def square(num):\n",
    "        return num ** 2\n",
    "        \n",
    "    x = 5\n",
    "    x_doubled = double(x)\n",
    "    x_doubled_and_squared = square(x_doubled)\n",
    "    \n",
    "This is the power of `return`ing values - they can then be used by other code. Function _parameters_ - the values inside the parentheses - are evaluated first, so this is equivalent to the above (this is referred to as function _composition_):\n",
    "\n",
    "    x_doubled_and_squared = square(double(5))\n",
    "\n",
    "Functions can also return multiple values. Just separate the values after the `return` keyword by a comma:\n",
    "\n",
    "    def means(num1,num2):\n",
    "        \"\"\"\n",
    "        returns the arithmetic and geometric means of two numbers.\n",
    "        inputs: num1, num2; ints or floats to have their means taken.\n",
    "        output: a tuple of floats containing the arithmetic and geometric means, in that order.\n",
    "        \"\"\"\n",
    "        ari_mean = (num1 + num2) / 2\n",
    "        geo_mean = (num1 * num2) ** 0.5\n",
    "        \n",
    "        return ari_mean, geo_mean\n",
    "        \n",
    "The return values can be assigned, also using commas, like this:\n",
    "\n",
    "    ari_output, geo_output = means(4, 16)\n",
    "    \n"
   ]
  },
  {
   "cell_type": "code",
   "execution_count": 11,
   "id": "c14dd39e",
   "metadata": {},
   "outputs": [],
   "source": [
    "# write your code here"
   ]
  },
  {
   "cell_type": "markdown",
   "id": "1d073447",
   "metadata": {},
   "source": [
    "## A note on commenting\n",
    "\n",
    "Note that I used triple-double quotes to make a multi-line comment explaining the function above. You should always comment your functions to include this information:\n",
    "- An explanation of what the function does\n",
    "- An explanation of each input: data type,\n",
    "- An explanation of each output\n",
    "\n",
    "This is the bare minimum. Part of your grade on every assignment going forward will be your application of comments."
   ]
  },
  {
   "cell_type": "code",
   "execution_count": null,
   "id": "d9bf6bf4",
   "metadata": {},
   "outputs": [],
   "source": [
    "# write your code here"
   ]
  },
  {
   "cell_type": "markdown",
   "id": "5dc5007a",
   "metadata": {},
   "source": [
    "### Default values\n",
    "\n",
    "Function parameters can have _default values_ - values that are inserted if no value is supplied when the function is called. The one rule about default values is that all parameters that _do not_ have default values have to come first.\n",
    "\n",
    "    def greet_person(name,greeting=\"hello\"):\n",
    "        print(greeting + \" \" + name)\n",
    "        \n",
    "Also note that you can refer to function parameters out of order if you call them by name:\n",
    "\n",
    "    def greet_person(name, greeting):\n",
    "        print(greeting + \" \" + name)\n",
    "        \n",
    "    greet_person(\"toby\",\"hello\")\n",
    "    greet_person(greeting=\"hello\",name=\"toby\")\n",
    "    \n",
    "These two function calls produce identical results."
   ]
  },
  {
   "cell_type": "code",
   "execution_count": 7,
   "id": "a21d18df",
   "metadata": {},
   "outputs": [],
   "source": [
    "# write your code here"
   ]
  },
  {
   "cell_type": "markdown",
   "id": "98c1d57f",
   "metadata": {},
   "source": [
    "## Useful built-in functions\n",
    "\n",
    "We've used some functions already - for example, we used `str()` to turn numbers into strings. Python has a number of <a href=\"https://docs.python.org/3/library/functions.html\">built-in functions</a> that can be used right out of the box. These include `abs` for absolute value, `max`, `min`, `sum`, and `type`, among others."
   ]
  },
  {
   "cell_type": "code",
   "execution_count": null,
   "id": "ba19f842",
   "metadata": {},
   "outputs": [],
   "source": [
    "# write your code here"
   ]
  },
  {
   "cell_type": "markdown",
   "id": "1be24b0c",
   "metadata": {},
   "source": [
    "## Modules\n",
    "\n",
    "There are many, many, many, many things you will want to do in Python that require functionality beyond the few dozen built-in functions Python provides. To service these needs, Python offers modules, some of which are built and maintained by the official Python developers, and others of which are built and maintained by Python's enormous, global, open-source community.\n",
    "\n",
    "Here are a few of the most important libraries:\n",
    "- `math` (mathematical functions)\n",
    "- `pandas` (dataframe package for manipulating spreadsheet-like datasets like csv's)\n",
    "- `numpy` (extensive math library including matrix functions required for statistics)\n",
    "- `scikit-learn` (machine learning package)\n",
    "- `matplotlib` (data viasualization)\n",
    "\n",
    "Modules are added to your code using the `import` keyword:\n",
    "\n",
    "    import math\n",
    "    x = 5.99\n",
    "    x_floor = math.floor(x)\n",
    "    \n",
    "Two principles are customary when it comes to modules:\n",
    "- Don't just import your modules as needed in the code - when you realize the need for a module, add its `import` statement at the top of your code, along with all the other `import` statements for your entire script. This may result in a large number of module import statements; that's totally fine.\n",
    "- Import modules only for the scope they are needed - if a module is used only in one function, it is considered good hygiene to limit that import to the function itself:\n",
    "    ```\n",
    "    def function_that_uses_some_module():\n",
    "        import some_module\n",
    "        [...]\n",
    "    ```\n",
    "    This way, the module and its functions will be visible only within the function scope, not the global scope. This increases the cleanliness of your _namespace_ - the set of all variable names and pieces of data you've loaded into your script.\n",
    "    \n",
    "Note - if you are trying to use a module but python says it's not found, use `pip` to install it:\n",
    "\n",
    "    pip install some_module\n",
    "    "
   ]
  },
  {
   "cell_type": "code",
   "execution_count": 16,
   "id": "a2d458e6",
   "metadata": {},
   "outputs": [],
   "source": [
    "# write your code here"
   ]
  },
  {
   "cell_type": "markdown",
   "id": "81750e8b",
   "metadata": {},
   "source": [
    "Modules are typically unified by some central theme - for `pandas` it is dataframe manipulation, for example. The module will contain the functions to do almost anything you could want to do with that type of data - pandas contains summary functions like averages that can be applied per column, column renaming functionality, reshaping functions, and much more."
   ]
  },
  {
   "cell_type": "markdown",
   "id": "715e1739",
   "metadata": {},
   "source": [
    "## A couple more functions concepts\n",
    "\n",
    "The next two topics - functions of functions, and recursion - are pretty advanced. I am going to cover them so you will be aware of them; however, you're not expected to implement these or be an expert in them unless you're just the kind of person who likes that stuff."
   ]
  },
  {
   "cell_type": "markdown",
   "id": "cca216df",
   "metadata": {},
   "source": [
    "## Functions of functions\n",
    "\n",
    "Functions have a different \"feel\" than data types like ints or strings, because they are dynamic and not static; however, functions are treated as data by your machine, and can therefore be `return`ed by functions just like anything else. This means you can create things like _function generators_:\n",
    "\n",
    "    def make_a_multiplier(m):\n",
    "        def multiplier_instance(n):\n",
    "            return n * m\n",
    "        \n",
    "        return multiplier_instance\n",
    "        \n",
    "    multiply_by_5 = make_a_multiplier(5)\n",
    "    multiply_by_5(15)\n",
    "    \n",
    "What will this code do?"
   ]
  },
  {
   "cell_type": "code",
   "execution_count": 19,
   "id": "230101f5",
   "metadata": {},
   "outputs": [],
   "source": [
    "# write your code here"
   ]
  },
  {
   "cell_type": "markdown",
   "id": "6b06d4a6",
   "metadata": {},
   "source": [
    "## Recursion\n",
    "\n",
    "The last topic we'll touch on with respect to functions is the most mind-bending one of all: recursion. Recursion refers to functions that call themselves.\n",
    "\n",
    "    def recursive_sequence_incrementer(step,start=0,target_number):\n",
    "        if start >= target_number: return start\n",
    "        return recursive_sequence_incrementer(step,start + step,target_number)\n",
    "    \n",
    "    recursive_sequence_incrementer(5,0,102)"
   ]
  },
  {
   "cell_type": "code",
   "execution_count": 53,
   "id": "b5d485bf",
   "metadata": {},
   "outputs": [],
   "source": [
    "# write your code here"
   ]
  },
  {
   "cell_type": "markdown",
   "id": "d2b27257",
   "metadata": {},
   "source": [
    "## Data structures\n",
    "\n",
    "So far we've dealt with singleton data types: one int, one float, one string at a time - the one exception being functions that return multiple things in a _tuple_. But datasets are not singletons; they're large structures of many pieces of data. One way to represent many pieces of data is to use a _list_.\n",
    "\n",
    "Lists are declared with either the \"list()\" function, or by using square brackets ([]). The following are equivalent:\n",
    "- list((1,2,3))\n",
    "    - Note the double parentheses - we'll understand this in a moment.\n",
    "- [1,2,3]\n",
    "\n",
    "Lists are exactly what they sound like: ordered collections of data. In some languages, lists (often called \"arrays\" in other settings) can contain only one data type, e.g., all ints, or all floats, or all strings. However, in Python they can contain anything, including mixed data. The following are legal lists - though I will say, while there's nothing wrong with them, these grab-bags of data do make most developers feel icky:\n",
    "- [1,1.5,2] (ints mixed with floats)\n",
    "- [\"Pineapple\", 2, 3.14159, [\"another\",\"list\",2], \"Jelly\"] (ints, floats, strings, and lists)\n",
    "- [1,1,2,3,5,8] (ints only)\n",
    "\n",
    "Try it below:\n",
    "- Create a list with three elements: your first name, your last name, and your age.\n",
    "- Assign the list to a variable with whatever name you want.\n",
    "- Print the list.\n",
    "\n",
    "Note - lists and tuples behave in the same way, except tuples are created using parentheses, whereas lists are created using square brackets. Tuples cannot be modified in-place, meaning you can't, for example, set the second value of a tuple to be something else. Tuples are useful for things like constants (e.g., pi) or function return values - things you will use but not modify."
   ]
  },
  {
   "cell_type": "code",
   "execution_count": null,
   "id": "93149365",
   "metadata": {},
   "outputs": [],
   "source": [
    "## write your code here"
   ]
  },
  {
   "cell_type": "markdown",
   "id": "64d9fea6",
   "metadata": {},
   "source": [
    "Now you know how to put data in lists. How do you get it out? For example, what if you want to access just your last name from the list above?\n",
    "\n",
    "Python uses bracket notation to access entries in lists. So if you have a list called \"my_list,\" you can access the first element of that list by typing:\n",
    "- my_list[0]\n",
    "\n",
    "Note that the first element of the list is element _zero_, not element one - if you asked for my_list[1], you'd get the _second_ element. This is because Python is \"zero-indexed.\" This takes some getting used to conceptually, but is convenient for a lot of reasons which we'll find out about later.\n",
    "\n",
    "Try it below:\n",
    "- Create the list [\"the\",\"quick\",\"brown\",\"fox\",\"jumped\",\"over\",\"the\",\"lazy\",\"dog\"].\n",
    "- Assign the last element of the list to a new variable and print it out.\n",
    "- Create a list with the first 10 Fibonacci numbers and assign it to a variable.\n",
    "- Modify the list so the last number is divided by 3.\n"
   ]
  },
  {
   "cell_type": "code",
   "execution_count": null,
   "id": "ab2f8687",
   "metadata": {},
   "outputs": [],
   "source": [
    "## write your code here"
   ]
  },
  {
   "cell_type": "markdown",
   "id": "960184d7",
   "metadata": {},
   "source": [
    "## Tuples\n",
    "\n",
    "Similar to lists, tuples store multiple pieces of data. Unlike lists, tuples cannot be modified.\n",
    "\n",
    "Tuples are created the same way as lists, except they are wrapped in regular parentheses instead of square brackets. Everything else about tuples is the same as with lists: they can contain different types of data; they are accessed by bracket notation; they are zero-indexed. Tuples are useful for more advanced programming tasks, which we'll encounter in future weeks. For now, just remember they exist.\n",
    "\n",
    "Try it below:\n",
    "- Create a tuple with the first 10 Fibonacci numbers and assign it to a variable.\n",
    "- Try to modify the list so the last number is divided by 3. What happens?\n"
   ]
  },
  {
   "cell_type": "code",
   "execution_count": null,
   "id": "2219a724",
   "metadata": {},
   "outputs": [],
   "source": [
    "## write your code here"
   ]
  },
  {
   "cell_type": "markdown",
   "id": "b7c21a0b",
   "metadata": {},
   "source": [
    "<div class=\"alert alert-block alert-info\">\n",
    "Changing data is also technically known as \"mutating\" it; therefore, data types that can be modified, like lists, are called \"mutable,\" as in, \"able to be mutated.\" Data types like tuples that can't be changed are called \"immutable.\"\n",
    "</div>"
   ]
  },
  {
   "cell_type": "markdown",
   "id": "438c27bf",
   "metadata": {},
   "source": [
    "## Dictionaries\n",
    "\n",
    "There's one more important \"collection\" type object in Python: the dictionary. Dictionaries are also known as collections \"key-value pairs,\" and they are used as lookup lists for pieces of related data. Think about a collection of student ID -> student name mappings:\n",
    "\n",
    "- \"1030204\": \"Penk, Toby\"\n",
    "- \"1030205\": \"Doe, John\"\n",
    "- ... etc\n",
    "\n",
    "So now if you have a program that knows student ID's, you can look up the student names here to display it ona webpage, print an ID badge, etc etc. The syntax of dictionaries uses curly braces ({}), commas, and colons:\n",
    "\n",
    "```\n",
    "{\n",
    "    \"1030204\": \"Penk, Toby\",\n",
    "    \"1030205\": \"Doe, John\"\n",
    "}\n",
    "```\n",
    "\n",
    "All of the keys (the entries on the left) and the values (the entries on the right) are separated by colons, and the key-value pairs themselves are separated by commas. Strictly speaking, the line spacing and visual formatting doesn't matter - you could create this dictionary all one line, or with different indentation, etc. But the way I've declared it is a standard because it's easy to read.\n",
    "\n",
    "Keys always have to be ints or strings, whereas values can be any data type at all, including other dictionaries. Dictionaries can be deeply nested, with dictionaries being the keys of dictionaries being the keys of dictionaries.... data types like this are the nightmares of CS students, and we will not discuss them in this class.\n",
    "\n",
    "Try it yourself:\n",
    "- Create a dictionary where the keys are your class names, and the values are the names of the teachers of those classes.\n",
    "- Print out the name of your favorite teacher by calling the appropriate key-value pair from the dictionary.\n"
   ]
  },
  {
   "cell_type": "code",
   "execution_count": null,
   "id": "4512ec14",
   "metadata": {},
   "outputs": [],
   "source": [
    "# write your code here"
   ]
  },
  {
   "cell_type": "markdown",
   "id": "b6ee2851",
   "metadata": {},
   "source": [
    "## Using dictionaries to test functions\n",
    "\n",
    "Dictionaries can be useful for writing tests for functions you've written, to make sure they work correctly in every scenario. Think about testing this function:\n",
    "\n",
    "    def divide_by_2(n):\n",
    "        return n / 2\n",
    "        \n",
    "Is this always going to return correct results? Let's declare a dictionary containing the answers we know are correct:\n",
    "\n",
    "    test_dict = {\n",
    "        2: 1.0,\n",
    "        5: 2.5,\n",
    "        1000: 500.0\n",
    "    }\n",
    "    \n",
    "You can iterate the `key`s of a dict the same as you iterate a `list`:\n",
    "    \n",
    "    for key in dict:\n",
    "        test_val = divide_by_2(key)\n",
    "        if test_val != test_dict[key]:\n",
    "            print(\"error in key-value pair \" + str(key) + \":\" + str(test_dict[key])\n",
    "            \n",
    "We gave the function some pretty easy tests, but the real point of testing is to expose the weird, unusual situations, or _edge cases_, where the function might fail. Try some more unusual values:\n",
    "\n",
    "    test_dict = {\n",
    "        2: 1.0,\n",
    "        5: 2.5,\n",
    "        1000: 500.0,\n",
    "        1000000000000000: 500000000000000.0,\n",
    "        0.1: 0.05,\n",
    "        0.000000001: 0.0000000005,\n",
    "        \"string\": \"ERROR\"\n",
    "    }\n",
    "   \n",
    "Currently our function will pass all the tests here except the last one. How can we make it handle the last one correctly?\n"
   ]
  },
  {
   "cell_type": "code",
   "execution_count": 70,
   "id": "1f17e620",
   "metadata": {},
   "outputs": [],
   "source": [
    "# write your code here"
   ]
  },
  {
   "cell_type": "markdown",
   "id": "1a2d9a30",
   "metadata": {},
   "source": [
    "## Three common data structure transformations\n",
    "\n",
    "There are three functions that are commonly implemented in programming languages to enable canonical data operations:\n",
    "- `filter` returns only values meeting some criteria you set\n",
    "- `map` transforms every value in a list by some function you specify\n",
    "- `reduce` gives back one value from a list of data resulting from a function you specify that combines elements one at a time\n",
    "\n",
    "### filter()\n",
    "\n",
    "There are two ways to specify the function that will be used to `filter` a dataset.\n",
    "1. Declare a function outside the `filter` and call it by name\n",
    "2. Use function logic entirely inside the `filter` with the keyword `lambda`\n",
    "\n",
    "```\n",
    "#first method\n",
    "def is_even(n):\n",
    "    \"\"\"\n",
    "    determines whether integer n is even\n",
    "    inputs: n, an int\n",
    "    output: one boolean, True if n is even; False otherwise\n",
    "    \"\"\"\n",
    "    return n % 2 == 0\n",
    "\n",
    "my_list = list(range(20)) # list function makes range more usable\n",
    "my_list_evens = list(filter(is_even,my_list))\n",
    "```\n",
    "\n",
    "We declare an even-number-checker called `is_even`; then, we give that function, and a list of numbers, to the `filter` function. `filter` returns a `filter` object, which is not technically a `list`, so we coerce the `filter` to a `list` with the `list()` function.\n",
    "\n",
    "We can also do this by passing the logic of `is_even` directly to the `filter` without declaring a separate function. This is how `lambda` works:\n",
    "\n",
    "```\n",
    "#second method\n",
    "my_list = list(range(20)) # list function makes range more usable\n",
    "my_list_evens = list(filter(lambda x: x % 2 == 0,my_list))\n",
    "```\n",
    "\n",
    "These two methods are exactly equivalent; therefore, your consideration should mainly be which is easier to implement and to read. `lambda` can be easier to write, and for some reason (I think most coders would agree) is simply more fun to code. However, when the logic gets more complicated, `lambda` can be a lot less readable.\n",
    "\n",
    "Try it yourself:\n",
    "- Create a list of strings giving the first names of ten people\n",
    "- Filter the list to the names that are exactly 4 letters long\n",
    "    - Hint: use the len() function\n",
    "    - You can implement this with a named function or with lambda; it's up to you\n"
   ]
  },
  {
   "cell_type": "code",
   "execution_count": 14,
   "id": "cde1f302",
   "metadata": {},
   "outputs": [],
   "source": [
    "# write your code here"
   ]
  },
  {
   "cell_type": "markdown",
   "id": "63d0b157",
   "metadata": {},
   "source": [
    "### map()\n",
    "\n",
    "`map` works very similarly to `filter`, except the function you pass will be used to _transform_, rather than _filter_, your data:\n",
    "\n",
    "    def cube(n):\n",
    "        \"\"\"\n",
    "        returns the cube of a number, aka that number raised to the third power\n",
    "        inputs: n, an int or float\n",
    "        outputs: an int or float representing the cube\n",
    "        \"\"\"\n",
    "        return n ** 3\n",
    "        \n",
    "    my_list = list(range(20))\n",
    "    my_list_cubed = list(map(cube, my_list))\n",
    "    \n",
    "This is exactly equivalent to the `lambda` version:\n",
    "\n",
    "    my_list = list(range(20))\n",
    "    my_list_cubed = list(map(lambda x: x ** 3, my_list))\n",
    "    \n",
    "Try it yourself:\n",
    "- Declare a list containing the first ten letters of the alphabet in lowercase\n",
    "- `map` that list to an uppercase version\n"
   ]
  },
  {
   "cell_type": "code",
   "execution_count": 73,
   "id": "e35e8ca9",
   "metadata": {},
   "outputs": [],
   "source": [
    "# write your code here"
   ]
  },
  {
   "cell_type": "markdown",
   "id": "47c0297f",
   "metadata": {},
   "source": [
    "### reduce()\n",
    "\n",
    "The last common list transformation is `reduce`, which returns one value from a list. This can also be done with a dedicated function, or a `lambda`, and note that unlike `map` and `filter`, `reduce` is not in base Python but comes fro mthe `functools` package:\n",
    "\n",
    "    import functools\n",
    "    \n",
    "    def add(x,y):\n",
    "        return x + y\n",
    "        \n",
    "    my_list = list(range(10))\n",
    "    list_sum = functools.reduce(add,my_list)\n",
    "    \n",
    "This is equivalent to:\n",
    "\n",
    "    import functools\n",
    "        \n",
    "    my_list = list(range(10))\n",
    "    list_sum = functools.reduce(lambda x, y: x + y, my_list)\n",
    "    \n",
    "Try it yourself:\n",
    "- Write a function that uses `reduce` to calculate the factorial of an integer.\n",
    "    - Recall that factorial represents the product of all numbers up to and including n. So the factorial of 5 is 5 * 4 * 3 * 2 * 1.\n",
    "    "
   ]
  },
  {
   "cell_type": "code",
   "execution_count": 76,
   "id": "586b9286",
   "metadata": {},
   "outputs": [],
   "source": [
    "# write your code here"
   ]
  },
  {
   "cell_type": "markdown",
   "id": "6b16216c",
   "metadata": {},
   "source": [
    "## String methods"
   ]
  },
  {
   "cell_type": "code",
   "execution_count": null,
   "id": "eedfc06d",
   "metadata": {},
   "outputs": [],
   "source": [
    "string splitting and joining\n",
    "\n"
   ]
  },
  {
   "cell_type": "markdown",
   "id": "ed49c8a4",
   "metadata": {},
   "source": [
    "## Classes"
   ]
  },
  {
   "cell_type": "code",
   "execution_count": null,
   "id": "b9732f97",
   "metadata": {},
   "outputs": [],
   "source": []
  }
 ],
 "metadata": {
  "kernelspec": {
   "display_name": "Python 3 (ipykernel)",
   "language": "python",
   "name": "python3"
  },
  "language_info": {
   "codemirror_mode": {
    "name": "ipython",
    "version": 3
   },
   "file_extension": ".py",
   "mimetype": "text/x-python",
   "name": "python",
   "nbconvert_exporter": "python",
   "pygments_lexer": "ipython3",
   "version": "3.8.9"
  }
 },
 "nbformat": 4,
 "nbformat_minor": 5
}
