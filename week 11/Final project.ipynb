{
 "cells": [
  {
   "cell_type": "markdown",
   "id": "6ede45ed",
   "metadata": {},
   "source": [
    "# Final project\n",
    "\n",
    "### Due 2023-05-04 at 1:30pm ET"
   ]
  },
  {
   "cell_type": "markdown",
   "id": "b4ad59ec",
   "metadata": {},
   "source": [
    "Perform all of the following tasks:\n",
    "\n",
    "- Select a dataset\n",
    "- Perform exploratory analysis as we have done in class with datasets like the Titanic survivorship data, including:\n",
    "    - Describing the dataset's columns and rows\n",
    "    - Noting any aspects of the data that might prove challenging for a mathematical model (e.g., lots of missing values in some column; lots of string data that is hard to categorize; etc)\n",
    "- Perform data cleaning, including:\n",
    "    - Filtering out bad rows\n",
    "    - Dealing with missing data\n",
    "    - Cleaning columns with messy data like inconsistently-formatted strings\n",
    "    - Standardizing / scaling data\n",
    "    - Tokenizing / embedding text data\n",
    "    - You don't need to use all these techniques; only the ones that are directly relevant to your dataset\n",
    "- Perform feature engineering, including:\n",
    "    - Developing dummy variables for columns with several distinct categories\n",
    "    - Creating derived columns like we did with \"mentions_time\" in our analysis of class commentary\n",
    "    - Again, you don't need to use all the available feature engineering techniques\n",
    "- Your cleaned data should be fully ready for modeling, meaning all missing data is dealt with, and all columns contain nothing but numeric data\n",
    "    \n",
    "### For maximum 70% credit:\n",
    "- Present summary analysis on your data, including all of the following:\n",
    "    - Which columns contain data that could reasonably be predicted if given the data in the other columns?\n",
    "    - What real-world problems could be addressed with your dataset? These could be, but don't have to be, business problems.\n",
    "    - Discuss what your dataset can and cannot be used for:\n",
    "        - What business or real-world decisions could be made on the basis of this data?\n",
    "        - What business or real-world decisions could not be made on the basis of this data, and what refinements or additions would the dataset need to be more useful?\n",
    "    \n",
    "### For maximum 95% credit:\n",
    "- Do everything in the 70% credit section, plus:\n",
    "    - Train a linear regression or classification model\n",
    "\n",
    "### For maximum 100% credit:\n",
    "- Do everything in the 70% credit section, plus do one of the following:\n",
    "    - Forecast a future period of values (if you're using time series data)\n",
    "    - Use a dataset that you scraped from the web\n",
    "    - Train an advanced model like a random-forest or neural net\n",
    "    - Include an advanced, interactive visualization\n",
    "    - Create a web app using Flask\n",
    "    - Check with me if you're unsure what you're considering is advanced enough to qualify"
   ]
  },
  {
   "cell_type": "code",
   "execution_count": null,
   "id": "b7f0e0bc",
   "metadata": {},
   "outputs": [],
   "source": []
  }
 ],
 "metadata": {
  "kernelspec": {
   "display_name": "Python 3 (ipykernel)",
   "language": "python",
   "name": "python3"
  },
  "language_info": {
   "codemirror_mode": {
    "name": "ipython",
    "version": 3
   },
   "file_extension": ".py",
   "mimetype": "text/x-python",
   "name": "python",
   "nbconvert_exporter": "python",
   "pygments_lexer": "ipython3",
   "version": "3.8.9"
  }
 },
 "nbformat": 4,
 "nbformat_minor": 5
}
