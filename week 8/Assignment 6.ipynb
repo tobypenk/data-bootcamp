{
 "cells": [
  {
   "cell_type": "markdown",
   "id": "7ad2a728",
   "metadata": {},
   "source": [
    "# Assignment 6\n",
    "\n",
    "### Due 4/6 at 1:30PM ET"
   ]
  },
  {
   "cell_type": "markdown",
   "id": "58666e3f",
   "metadata": {},
   "source": [
    "Using the fb_stock table from the data_bootcamp schema we worked with in class, do the following in SQL:\n",
    "    - Turn the date column from a string to a true date using str_to_date()\n",
    "    - In which year did the stock have the highest median closing price?\n",
    "        - In which month of that year was the mean closing price highest?\n",
    "    - Each day has a high and low price. Calculate the difference between high and low. Which day in the dataset had the largest difference?\n",
    "    - Which day had the largest difference between opening and closing price?\n",
    "    - Assume the average trading price on each day was the average of the opening and closing price. Using the volume column, on which day did the largest number of dollars change hands in Facebook stock?\n",
    "    \n",
    "Do the following in Python:\n"
   ]
  }
 ],
 "metadata": {
  "kernelspec": {
   "display_name": "Python 3 (ipykernel)",
   "language": "python",
   "name": "python3"
  },
  "language_info": {
   "codemirror_mode": {
    "name": "ipython",
    "version": 3
   },
   "file_extension": ".py",
   "mimetype": "text/x-python",
   "name": "python",
   "nbconvert_exporter": "python",
   "pygments_lexer": "ipython3",
   "version": "3.8.9"
  }
 },
 "nbformat": 4,
 "nbformat_minor": 5
}
